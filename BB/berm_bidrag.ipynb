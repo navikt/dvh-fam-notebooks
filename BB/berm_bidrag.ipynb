{
 "cells": [
  {
   "cell_type": "code",
   "execution_count": 15,
   "metadata": {},
   "outputs": [],
   "source": [
    "import oracledb, os, json\n",
    "#from google.cloud import secretmanager\n",
    "import pandas as pd"
   ]
  },
  {
   "cell_type": "code",
   "execution_count": 16,
   "metadata": {},
   "outputs": [],
   "source": [
    "df = pd.read_csv(\"../bidrag_filer/BIDRAG_BERM_M202312\", skip_blank_lines=True, sep='\\0', header=None)"
   ]
  },
  {
   "cell_type": "code",
   "execution_count": 17,
   "metadata": {},
   "outputs": [],
   "source": [
    "df['REC_TYPE'] = df[0].apply(lambda x: x[13:15])\n",
    "\n",
    "filt = (df['REC_TYPE'] == '03')\n",
    "df_rec_type_3 = df.loc[filt].copy()"
   ]
  },
  {
   "cell_type": "code",
   "execution_count": 18,
   "metadata": {},
   "outputs": [],
   "source": [
    "# Når INFILE = BERM og REC_TYPE = 3, hent disse kolonnene!\n",
    "df_rec_type_3['PERIODE'] = df_rec_type_3[0].apply(lambda x: x[:6])\n",
    "df_rec_type_3['RECTY'] = df_rec_type_3[0].apply(lambda x: x[13:15])\n",
    "df_rec_type_3['SAKSNR'] = df_rec_type_3[0].apply(lambda x: x[6:13])\n",
    "df_rec_type_3['REC_TYPE'] = df_rec_type_3[0].apply(lambda x: x[13:15])\n",
    "df_rec_type_3['OBJNR'] = df_rec_type_3[0].apply(lambda x: x[15:17])\n",
    "df_rec_type_3['NR'] = df_rec_type_3[0].apply(lambda x: x[6:8])\n",
    "df_rec_type_3['FNR'] = df_rec_type_3[0].apply(lambda x: x[17:28])\n",
    "df_rec_type_3['FAAR'] = df_rec_type_3[0].apply(lambda x: x[21:23])\n",
    "df_rec_type_3['VEDTARMN'] = df_rec_type_3[0].apply(lambda x: x[28:34])\n",
    "df_rec_type_3['VEDTDATO'] = df_rec_type_3[0].apply(lambda x: x[28:36])\n",
    "df_rec_type_3['BIDRBE'] = df_rec_type_3[0].apply(lambda x: x[36:43])\n",
    "df_rec_type_3['BIDRBEL'] = df_rec_type_3[0].apply(lambda x: x[43:50])\n",
    "df_rec_type_3['BIDRTIL'] = df_rec_type_3[0].apply(lambda x: x[50:57])\n",
    "df_rec_type_3['RESBERM'] = df_rec_type_3[0].apply(lambda x: x[57:60])\n",
    "df_rec_type_3['HGBERM'] = df_rec_type_3[0].apply(lambda x: x[60:62])\n",
    "df_rec_type_3['UGBERM'] = df_rec_type_3[0].apply(lambda x: x[62:64])\n",
    "df_rec_type_3['AARSAK'] = df_rec_type_3[0].apply(lambda x: x[64:65])\n",
    "df_rec_type_3['SAMV'] = df_rec_type_3[0].apply(lambda x: x[65:67])\n",
    "df_rec_type_3['UNDERH'] = df_rec_type_3[0].apply(lambda x: x[67:74])\n",
    "df_rec_type_3['INNTYP1'] = df_rec_type_3[0].apply(lambda x: x[74:78])\n",
    "df_rec_type_3['INNTYP2'] = df_rec_type_3[0].apply(lambda x: x[79:83])\n",
    "df_rec_type_3['INNTYP3'] = df_rec_type_3[0].apply(lambda x: x[82:86])\n",
    "df_rec_type_3['INNTYP4'] = df_rec_type_3[0].apply(lambda x: x[87:91])\n",
    "df_rec_type_3['INNTYP5'] = df_rec_type_3[0].apply(lambda x: x[90:94])\n",
    "df_rec_type_3['KONTST'] = df_rec_type_3[0].apply(lambda x: x[94:98])\n",
    "df_rec_type_3['INNTBEL1'] = df_rec_type_3[0].apply(lambda x: x[98:106])\n",
    "df_rec_type_3['INNTBEL2'] = df_rec_type_3[0].apply(lambda x: x[106:114])\n",
    "df_rec_type_3['INNTBEL3'] = df_rec_type_3[0].apply(lambda x: x[114:122])\n",
    "df_rec_type_3['INNTBEL4'] = df_rec_type_3[0].apply(lambda x: x[122:130])\n",
    "df_rec_type_3['INNTBEL5'] = df_rec_type_3[0].apply(lambda x: x[130:138])\n",
    "df_rec_type_3['KONTSBEL'] = df_rec_type_3[0].apply(lambda x: x[138:146])\n",
    "df_rec_type_3['BTILRED'] = df_rec_type_3[0].apply(lambda x: x[146:147])\n",
    "df_rec_type_3['HD'] = df_rec_type_3[0].apply(lambda x: x[147:148])\n",
    "df_rec_type_3['STDEKN'] = df_rec_type_3[0].apply(lambda x: x[148:150])\n",
    "df_rec_type_3['BTBEL'] = df_rec_type_3[0].apply(lambda x: x[150:157])\n",
    "df_rec_type_3['BTFAK'] = df_rec_type_3[0].apply(lambda x: x[157:164])\n",
    "df_rec_type_3['FORPL'] = df_rec_type_3[0].apply(lambda x: x[164:171])\n",
    "df_rec_type_3['TELLER'] = df_rec_type_3[0].apply(lambda x: x[171:173])\n",
    "df_rec_type_3['NEVNER'] = df_rec_type_3[0].apply(lambda x: x[173:175])\n",
    "df_rec_type_3['BPDELU'] = df_rec_type_3[0].apply(lambda x: x[175:181])\n",
    "df_rec_type_3['VIRKBB'] = df_rec_type_3[0].apply(lambda x: x[181:189])\n",
    "df_rec_type_3['VTDFO'] = df_rec_type_3[0].apply(lambda x: x[189:197])\n",
    "df_rec_type_3['VIRKFO'] = df_rec_type_3[0].apply(lambda x: x[197:205])\n",
    "df_rec_type_3['VIBBARMN'] = df_rec_type_3[0].apply(lambda x: x[181:187])\n",
    "df_rec_type_3['VTFOARMN'] = df_rec_type_3[0].apply(lambda x: x[189:195])\n",
    "df_rec_type_3['VIFOARMN'] = df_rec_type_3[0].apply(lambda x: x[197:203])\n",
    "df_rec_type_3['TELLPROS'] = df_rec_type_3[0].apply(lambda x: x[204:211])"
   ]
  },
  {
   "cell_type": "code",
   "execution_count": 19,
   "metadata": {},
   "outputs": [],
   "source": [
    "df_barn_pos = df_rec_type_3[['PERIODE','RECTY','SAKSNR','REC_TYPE','OBJNR','NR','FNR','FAAR','VEDTARMN','VEDTDATO','BIDRBE','BIDRBEL','BIDRTIL'\n",
    ",'RESBERM','HGBERM','UGBERM','AARSAK','SAMV' ,'UNDERH','INNTYP1','INNTYP2','INNTYP3','INNTYP4','INNTYP5','KONTST'\n",
    ",'INNTBEL1','INNTBEL2','INNTBEL3','INNTBEL4','INNTBEL5','KONTSBEL','BTILRED','HD','STDEKN','BTBEL','BTFAK','FORPL','TELLER'\n",
    ",'NEVNER','BPDELU','VIRKBB','VTDFO','VIRKFO','VIBBARMN','VTFOARMN','VIFOARMN','TELLPROS']]"
   ]
  },
  {
   "cell_type": "code",
   "execution_count": null,
   "metadata": {},
   "outputs": [],
   "source": [
    "def set_secrets_as_envs():\n",
    "  secrets = secretmanager.SecretManagerServiceClient()\n",
    "  resource_name = f\"{os.environ['KNADA_TEAM_SECRET']}/versions/latest\"\n",
    "  secret = secrets.access_secret_version(name=resource_name)\n",
    "  secret_str = secret.payload.data.decode('UTF-8')\n",
    "  secrets = json.loads(secret_str)\n",
    "  os.environ.update(secrets)"
   ]
  },
  {
   "cell_type": "code",
   "execution_count": null,
   "metadata": {},
   "outputs": [],
   "source": [
    "def oracle_secrets():\n",
    "  set_secrets_as_envs()\n",
    "  return dict(\n",
    "    user=os.getenv('DB_USER'),\n",
    "    password=os.getenv('DB_PASSWORD'),\n",
    "    host = os.getenv('DBT_ORCL_HOST'),\n",
    "    service = os.getenv('DBT_ORCL_SERVICE'),\n",
    "    encoding=\"UTF-8\",\n",
    "    nencoding=\"UTF-8\"\n",
    "  )\n",
    "\n",
    "oracle_secrets = oracle_secrets()"
   ]
  },
  {
   "cell_type": "code",
   "execution_count": null,
   "metadata": {},
   "outputs": [],
   "source": [
    "user = oracle_secrets['user'] + '[DVH_FAM_BB]'\n",
    "dsn_tns = oracledb.makedsn(oracle_secrets['host'], 1521, service_name = oracle_secrets['service'])\n",
    "\n",
    "with oracledb.connect(user=user, password = oracle_secrets['password'], dsn=dsn_tns) as conn:\n",
    "    with conn.cursor() as cursor:\n",
    "        rows = [tuple(x) for x in df.values]\n",
    "        cursor.executemany('''INSERT INTO berm_bidrag (PERIODE,RECTY,SAKSNR,REC_TYPE,OBJNR,NR,FNR,FAAR,VEDTARMN,VEDTDATO,BIDRBE,BIDRBEL,BIDRTIL\n",
    "                                    ,RESBERM,HGBERM,UGBERM,AARSAK,SAMV ,UNDERH,INNTYP1,INNTYP2,INNTYP3,INNTYP4,INNTYP5,KONTST\n",
    "                                    ,INNTBEL1,INNTBEL2,INNTBEL3,INNTBEL4,INNTBEL5,KONTSBEL,BTILRED,HD,STDEKN,BTBEL,BTFAK,FORPL,TELLER\n",
    "                                    ,NEVNER,BPDELU,VIRKBB,VTDFO,VIRKFO,VIBBARMN,VTFOARMN,VIFOARMN,TELLPROS) \n",
    "                                VALUES (:1,:2,:3,:4,:5,:6,:7,:8,:9,:10,:11,:12,:13,:14,:15,:16,:17,:18,:19,:20,:21,:22,:23,:24,:25,:26,:27,:28,:29,:30,:31,:32,:33,:34,:35,:36,:37,:38,:39,:40,:41,:42,:43,:44,:45,:46)''',rows)\n",
    "        conn.commit()"
   ]
  }
 ],
 "metadata": {
  "kernelspec": {
   "display_name": "base",
   "language": "python",
   "name": "python3"
  },
  "language_info": {
   "codemirror_mode": {
    "name": "ipython",
    "version": 3
   },
   "file_extension": ".py",
   "mimetype": "text/x-python",
   "name": "python",
   "nbconvert_exporter": "python",
   "pygments_lexer": "ipython3",
   "version": "3.9.12"
  }
 },
 "nbformat": 4,
 "nbformat_minor": 2
}
