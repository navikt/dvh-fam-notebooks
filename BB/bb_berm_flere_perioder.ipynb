{
 "cells": [
  {
   "cell_type": "code",
   "execution_count": null,
   "id": "998be7ef-4305-42dd-bccf-eefc5273edc0",
   "metadata": {},
   "outputs": [],
   "source": [
    "import oracledb, os, json\n",
    "from google.cloud import secretmanager\n",
    "import pandas as pd\n",
    "import numpy as np\n",
    "import paramiko\n",
    "from io import StringIO\n",
    "\n",
    "import warnings\n",
    "warnings.filterwarnings('ignore')"
   ]
  },
  {
   "cell_type": "code",
   "execution_count": null,
   "id": "5c750bd7-0198-43b4-ab08-41a72d6e4db4",
   "metadata": {},
   "outputs": [],
   "source": [
    "pd.set_option('display.max_columns', None)"
   ]
  },
  {
   "cell_type": "code",
   "execution_count": null,
   "id": "cd9a40d8-1c78-473a-83ec-67d22221ee83",
   "metadata": {},
   "outputs": [],
   "source": [
    "def set_secrets_as_envs():\n",
    "  secrets = secretmanager.SecretManagerServiceClient()\n",
    "  resource_name = f\"{os.environ['KNADA_TEAM_SECRET']}/versions/latest\"\n",
    "  secret = secrets.access_secret_version(name=resource_name)\n",
    "  secret_str = secret.payload.data.decode('UTF-8')\n",
    "  secrets = json.loads(secret_str)\n",
    "  os.environ.update(secrets)"
   ]
  },
  {
   "cell_type": "code",
   "execution_count": null,
   "id": "b68e3f9f-9646-48a5-b38b-2f6d8d0e5c49",
   "metadata": {
    "scrolled": true
   },
   "outputs": [],
   "source": [
    "def oracle_secrets():\n",
    "  set_secrets_as_envs()\n",
    "  return dict(\n",
    "    user=os.getenv('DB_USER'),\n",
    "    password=os.getenv('DB_PASSWORD'),\n",
    "    host = os.getenv('DBT_ORCL_HOST'),\n",
    "    service = os.getenv('DBT_ORCL_SERVICE'),\n",
    "    sftpkey = os.getenv('SFTPKEY'),\n",
    "    encoding=\"UTF-8\",\n",
    "    nencoding=\"UTF-8\"\n",
    "  )\n",
    "\n",
    "oracle_secrets = oracle_secrets()"
   ]
  },
  {
   "cell_type": "code",
   "execution_count": null,
   "id": "354c2266-7cce-40ac-b3c7-f5b7f463b0ff",
   "metadata": {},
   "outputs": [],
   "source": [
    "# finn ut hva som står på serveren i bidrag området\n",
    "\n",
    "keyfile = StringIO(oracle_secrets['sftpkey'])\n",
    "mykey = paramiko.RSAKey.from_private_key(keyfile, password=np.nan)\n",
    "\n",
    "# Open a transport\n",
    "host,port = \"a01drvl099.adeo.no\",22\n",
    "transport = paramiko.Transport((host,port))\n",
    "\n",
    "# Auth    \n",
    "username= \"srv-dv-familie-airflow-sas\"\n",
    "transport.connect(username=username,pkey=mykey)\n",
    "\n",
    "with paramiko.SFTPClient.from_transport(transport) as sftp:\n",
    "    yup =sftp.listdir('./inbound/kildefiler/bidrag/')\n",
    "\n",
    "yup"
   ]
  },
  {
   "cell_type": "code",
   "execution_count": null,
   "id": "7a44f53f-060a-47c8-a1b0-777b3074f77f",
   "metadata": {},
   "outputs": [],
   "source": [
    "def do_berm_etl():\n",
    "    keyfile = StringIO(oracle_secrets['sftpkey'])\n",
    "    mykey = paramiko.RSAKey.from_private_key(keyfile, password=np.nan)\n",
    "\n",
    "    # Open a transport\n",
    "    host,port = \"a01drvl099.adeo.no\",22\n",
    "    transport = paramiko.Transport((host,port))\n",
    "\n",
    "    # Auth    \n",
    "    username= \"srv-dv-familie-airflow-sas\"\n",
    "    transport.connect(username=username,pkey=mykey)\n",
    "\n",
    "    for i in range(1, 13):\n",
    "        if i < 10:\n",
    "            i = '0'+str(i) #01, 02.....09\n",
    "        with paramiko.SFTPClient.from_transport(transport) as sftp:\n",
    "            #print(\"connected\")\n",
    "            #print(sftp.get_channel())#chdir('kildefiler/bidrag')\n",
    "            sftp.get(f'./inbound/kildefiler/bidrag/BIDRAG_BERM_M2024{i}', f'../data/BIDRAG_BERM_M2024{i}')\n",
    "            #print(sftp.listdir(path='.'))\n",
    "\n",
    "    # Close\n",
    "    if sftp: sftp.close()\n",
    "    if transport: transport.close()"
   ]
  },
  {
   "cell_type": "code",
   "execution_count": null,
   "id": "2aaf0ba0-0651-426c-a221-2499bacf54fe",
   "metadata": {},
   "outputs": [],
   "source": [
    "do_berm_etl()"
   ]
  },
  {
   "cell_type": "code",
   "execution_count": null,
   "id": "55b65d96-e18a-453b-bb68-f1ef38658264",
   "metadata": {},
   "outputs": [],
   "source": [
    "def do_stonad_etl():\n",
    "    keyfile = StringIO(oracle_secrets['sftpkey'])\n",
    "    mykey = paramiko.RSAKey.from_private_key(keyfile, password=np.nan)\n",
    "\n",
    "    # Open a transport\n",
    "    host,port = \"a01drvl099.adeo.no\",22\n",
    "    transport = paramiko.Transport((host,port))\n",
    "\n",
    "    # Auth    \n",
    "    username= \"srv-dv-familie-airflow-sas\"\n",
    "    transport.connect(username=username,pkey=mykey)\n",
    "\n",
    "    for i in range(1, 13):\n",
    "        if i < 10:\n",
    "            i = '0'+str(i) #01, 02.....09\n",
    "        with paramiko.SFTPClient.from_transport(transport) as sftp:\n",
    "            #print(\"connected\")\n",
    "            #print(sftp.get_channel())#chdir('kildefiler/bidrag')\n",
    "            sftp.get(f'./inbound/kildefiler/bidrag/BIDRAG_STONAD_M2024{i}', f'../data/BIDRAG_STONAD_M2024{i}')\n",
    "            #print(sftp.listdir(path='.'))\n",
    "\n",
    "    # Close\n",
    "    if sftp: sftp.close()\n",
    "    if transport: transport.close()"
   ]
  },
  {
   "cell_type": "code",
   "execution_count": null,
   "id": "c84684e0-1bfe-40e4-89e5-c3678bed3a1b",
   "metadata": {},
   "outputs": [],
   "source": [
    "do_stonad_etl()"
   ]
  },
  {
   "cell_type": "code",
   "execution_count": null,
   "id": "13fb2c33-f430-41f1-94da-21af138cbbfe",
   "metadata": {},
   "outputs": [],
   "source": [
    "%%bash\n",
    "\n",
    "num = 0\n",
    "for a in {1..12}; \n",
    "do\n",
    "    if [[ $a -lt 10 ]]\n",
    "    then\n",
    "        num=0$a\n",
    "    cat ../data/BIDRAG_STONAD_M2024$num | tr -d '\\000' > ../data/BIDRAG_STONAD_M2024$num.txt;\n",
    "    elif [[ $a -gt 9 ]]\n",
    "    then\n",
    "        num=$a\n",
    "    cat ../data/BIDRAG_STONAD_M2024$num | tr -d '\\000' > ../data/BIDRAG_STONAD_M2024$num.txt;\n",
    "    fi\n",
    "    done "
   ]
  },
  {
   "cell_type": "code",
   "execution_count": null,
   "id": "99df4ab2-2f55-45bd-9788-3091a7d67e76",
   "metadata": {},
   "outputs": [],
   "source": [
    "barn_df_stonad = pd.read_excel('posisjoner/barn_stonad_pos.xlsx',header=0 )\n",
    "barn_df_stonad.rename(columns={\"Variabel-navn\": \"feltnavn\", \"Start-pos. i Bidrag-fila\": \"start_pos\", \"Antall posi-sjoner\": \"antall_pos\"}, inplace = True)"
   ]
  },
  {
   "cell_type": "code",
   "execution_count": null,
   "id": "8e534482-528b-49b8-a39a-854443e3ee84",
   "metadata": {},
   "outputs": [],
   "source": [
    "barn_df_berm = pd.read_excel('./posisjoner/barn_berm_posisjoner.xlsx',header=0 )\n",
    "barn_df_berm.rename(columns={\"Forslag til Feltnavn\": \"feltnavn\", \"Start-pos. i BBM-fila\": \"start_pos\", \"Antall posi-sjoner\": \"antall_pos\"}, inplace = True)"
   ]
  },
  {
   "cell_type": "code",
   "execution_count": null,
   "id": "e805d692-59d2-44d3-b5bc-02445abfc013",
   "metadata": {},
   "outputs": [],
   "source": [
    "user = oracle_secrets['user'] + '[DVH_FAM_BB]'\n",
    "dsn_tns = oracledb.makedsn(oracle_secrets['host'], 1521, service_name = oracle_secrets['service'])"
   ]
  },
  {
   "cell_type": "code",
   "execution_count": null,
   "id": "5f836644-8714-414c-9730-4f23d0966148",
   "metadata": {},
   "outputs": [],
   "source": [
    "def hent_mottaker_berm_data(df_berm, df_barn_berm):\n",
    "\n",
    "    mottaker_df_berm = pd.read_excel('./posisjoner/mottaker_berm_posisjoner.xlsx',header=0 )\n",
    "    mottaker_df_berm.rename(columns={\"Feltnavn\": \"feltnavn\", \"Start-pos. i BBM-fila\": \"start_pos\", \"Antall posi-sjoner\": \"antall_pos\"}, inplace = True)\n",
    "\n",
    "    df_berm['REC_TYPE'] = df_berm[0].apply(lambda x: x[13:15])\n",
    "    filt = (df_berm['REC_TYPE'] == '02')\n",
    "    df_rec_type_2 = df_berm.loc[filt].copy()\n",
    "\n",
    "    for index, row in mottaker_df_berm.iterrows():\n",
    "        start_pos = row['start_pos'] - 1\n",
    "        end_pos = start_pos + row['antall_pos']\n",
    "        df_rec_type_2[row['feltnavn']] = df_rec_type_2[0].apply(lambda x: x[start_pos:end_pos])\n",
    "\n",
    "    # henter kun kolonnene vi er intersert i ved bruk av kolonne \"Feltnavn\" fra mottaker_df som inneholder navn på alle kolonner\n",
    "    df_mottaker_berm = df_rec_type_2[mottaker_df_berm['feltnavn']]\n",
    "    df_mottaker_berm = df_mottaker_berm.replace(r'^\\s*$', None, regex=True)\n",
    "\n",
    "    # Filter df_mottaker based on SAKSNR in df_barn\n",
    "    df_mottaker_berm = df_mottaker_berm[df_mottaker_berm['Saksnr'].isin(df_barn_berm['Saksnr'])]\n",
    "\n",
    "    with oracledb.connect(user=user, password = oracle_secrets['password'], dsn=dsn_tns) as conn:\n",
    "        with conn.cursor() as cursor:\n",
    "            rows = [tuple(x) for x in df_mottaker_berm.values]\n",
    "            cursor.executemany('''INSERT INTO FAM_BB_MOTTAKER_BERM(PERIODE,SAKSNR,REC_TYPE,FNR,VEDTDATO,SKATTFOR,INNTTYP1,INNTTYP2,INNTTYP3,INNTTYP4,INNTTYP5,KONTST\n",
    "                                ,INNTBEL1,INNTBEL2,INNTBEL3,INNTBEL4,INNTBEL5,KONTSBEL,BTILRED,BARNETILBEL,BARNETILFORS)\n",
    "                                VALUES (:1,:2,:3,:4,:5,:6,:7,:8,:9,:10,:11,:12,:13,:14,:15,:16,:17,:18,:19,:20,:21)''', rows)\n",
    "            conn.commit()"
   ]
  },
  {
   "cell_type": "code",
   "execution_count": null,
   "id": "88b44087-bcd6-4a07-9dbf-82afdfc90063",
   "metadata": {},
   "outputs": [],
   "source": [
    "def hent_pliktig_berm_data(df_berm, df_barn_berm):\n",
    "\n",
    "    pliktig_df_berm = pd.read_excel('./posisjoner/pliktig_berm_posisjoner.xlsx',header=0 )\n",
    "    pliktig_df_berm.rename(columns={\"Feltnavn\": \"feltnavn\", \"Start-pos. i BBM-fila\": \"start_pos\", \"Antall posi-sjoner\": \"antall_pos\"}, inplace = True)\n",
    "\n",
    "    df_berm['REC_TYPE'] = df_berm[0].apply(lambda x: x[13:15])\n",
    "    filt = (df_berm['REC_TYPE'] == '01')\n",
    "    df_rec_type_1 = df_berm.loc[filt].copy()\n",
    "\n",
    "    for index, row in pliktig_df_berm.iterrows():\n",
    "        start_pos = row['start_pos'] - 1\n",
    "        end_pos = start_pos + row['antall_pos']\n",
    "        df_rec_type_1[row['feltnavn']] = df_rec_type_1[0].apply(lambda x: x[start_pos:end_pos])\n",
    "\n",
    "    # henter kun kolonnene vi er intersert i ved bruk av kolonne \"Feltnavn\" fra mottaker_df som inneholder navn på alle kolonner\n",
    "    df_pliktig_berm = df_rec_type_1[pliktig_df_berm['feltnavn']]\n",
    "    df_pliktig_berm = df_pliktig_berm.replace(r'^\\s*$', None, regex=True)\n",
    "\n",
    "    # Filter df_mottaker based on SAKSNR in df_barn\n",
    "    df_pliktig_berm = df_pliktig_berm[df_pliktig_berm['Saksnr'].isin(df_barn_berm['Saksnr'])]\n",
    "    \n",
    "    # Replace commas with dots and convert to numeric\n",
    "    df_pliktig_berm['Antbarnh'] = df_pliktig_berm['Antbarnh'].str.replace(',', '.', regex=False).astype(float)\n",
    "\n",
    "    \n",
    "    with oracledb.connect(user=user, password = oracle_secrets['password'], dsn=dsn_tns) as conn:\n",
    "        with conn.cursor() as cursor:\n",
    "            rows = [tuple(x) for x in df_pliktig_berm.values]\n",
    "            cursor.executemany('''INSERT INTO FAM_BB_PLIKTIGE_BERM(PERIODE,SAKSNR,REC_TYPE,FNR,VEDTDATO,ANTBARNH,INNTTYP1,INNTTYP2,INNTTYP3\n",
    "                        ,INNTTYP4,INNTTYP5,KONTST,INNTBEL1,INNTBEL2,INNTBEL3,INNTBEL4,INNTBEL5,KONTSBEL,BTILRED,BARNETILBEL,BARNETILFORS,BIDREVNE,BOFORHOLD)\n",
    "                                VALUES (:1,:2,:3,:4,:5,:6,:7,:8,:9,:10,:11,:12,:13,:14,:15,:16,:17,:18,:19,:20,:21,:22,:23)''', rows)\n",
    "            conn.commit()"
   ]
  },
  {
   "cell_type": "code",
   "execution_count": null,
   "id": "cc3c52cf-3fd3-44a7-a2ae-f0a9919f72e1",
   "metadata": {},
   "outputs": [],
   "source": [
    "def hent_barn_berm_data(df, i):\n",
    "    df_berm = pd.read_csv(f\"../data/BIDRAG_BERM_M2024{i}\", skip_blank_lines=True, sep='\\0', header=None)\n",
    "\n",
    "    df_berm['REC_TYPE'] = df_berm[0].apply(lambda x: x[13:15])\n",
    "    filt = (df_berm['REC_TYPE'] == '03')\n",
    "    df_rec_type_3 = df_berm.loc[filt].copy()\n",
    "    \n",
    "    for index, row in barn_df_berm.iterrows():\n",
    "        start_pos = row['start_pos'] - 1\n",
    "        end_pos = start_pos + row['antall_pos']\n",
    "        #print(row['feltnavn'],start_pos, end_pos)\n",
    "        df_rec_type_3[row['feltnavn']] = df_rec_type_3[0].apply(lambda x: x[start_pos:end_pos])\n",
    "        \n",
    "    # henter kun kolonnene vi er intersert i ved bruk av kolonne \"Feltnavn\" fra barn_berm som inneholder navn på alle kolonner\n",
    "    df_barn_berm = df_rec_type_3[barn_df_berm['feltnavn']]\n",
    "    df_barn_berm = df_barn_berm.replace(r'^\\s*$', None, regex=True)\n",
    "    \n",
    "    # Filter df_mottaker based on SAKSNR in df_barn\n",
    "    df_barn_berm = df_barn_berm[df_barn_berm['Saksnr'].isin(df_barn_stonad['SAKSNR'])]\n",
    "    \n",
    "    df_barn_berm = df_barn_berm.loc[filt].copy()\n",
    "\n",
    "    df_barn_berm['Bidrbe'] = pd.to_numeric(df_barn_berm['Bidrbe'].str.strip()) # convert this value '0      ' to nummeric 0\n",
    "\n",
    "    with oracledb.connect(user=user, password = oracle_secrets['password'], dsn=dsn_tns) as conn:\n",
    "        with conn.cursor() as cursor:\n",
    "            rows = [tuple(x) for x in df_barn_berm.values]\n",
    "            cursor.executemany('''INSERT INTO FAM_BB_BARN_BERM(PERIODE,SAKSNR,REC_TYPE,OBJNR,FNR,VEDTDATO,BIDRBE,BIDRBEL,BIDRTIL,BIDRES,HGBERM,UGBERM,AARSAK,SAMV,UNDERH,INNTTYP1,INNTTYP2,INNTTYP3,INNTTYP4,INNTTYP5,KONTST,\n",
    "            INNTBEL1,INNTBEL2,INNTBEL3,INNTBEL4,INNTBEL5,KONTSBEL,BTILRED,HD,STDEKN,BTBEL,BTFAK,FORPL,TELLER,NEVNER,BPDELU,VIRKDATOBB,VEDTDATOFO,VIRKDATOFO,BPPROS,BTSKODE) \n",
    "                                    VALUES (:1,:2,:3,:4,:5,:6,:7,:8,:9,:10,:11,:12,:13,:14,:15,:16,:17,:18,:19,:20,:21,:22,:23,:24,\n",
    "                                    :25,:26,:27,:28,:29,:30,:31,:32,:33,:34,:35,:36,:37,:38,:39,:40,:41)''',rows)\n",
    "            conn.commit()\n",
    "            \n",
    "    hent_mottaker_berm_data(df_berm, df_barn_berm)\n",
    "    \n",
    "    hent_pliktig_berm_data(df_berm, df_barn_berm)"
   ]
  },
  {
   "cell_type": "markdown",
   "id": "32902fde-ddfb-4b9f-859f-c51d14879d73",
   "metadata": {},
   "source": [
    "### barn_berm data"
   ]
  },
  {
   "cell_type": "code",
   "execution_count": null,
   "id": "9a11bccb-49eb-44cd-b902-81a7b59025d3",
   "metadata": {},
   "outputs": [],
   "source": [
    "%%time \n",
    "\n",
    "for i in range(1, 13):\n",
    "    if i < 10:\n",
    "        i = '0'+str(i)\n",
    "    df_stonad = pd.read_csv(f\"../data/BIDRAG_STONAD_M2024{i}.txt\", skip_blank_lines=True, sep='\\0', header=None)\n",
    "    \n",
    "    df_stonad['REC_TYPE'] = df_stonad[0].apply(lambda x: x[13:15])\n",
    "    filt = (df_stonad['REC_TYPE'] == '03')\n",
    "    df_rec_type_3 = df_stonad.loc[filt].copy()\n",
    "    \n",
    "    # her henter vi kolonne navn, posisjoner fra barn_df_stonad (excel fila) og så henter data fra filen BIDRAG_STONAD_M2023xx basert på kolonne og posisjoner\n",
    "    for index, row in barn_df_stonad.iterrows():\n",
    "        start_pos = row['start_pos'] - 1\n",
    "        end_pos = start_pos + row['antall_pos']\n",
    "        df_rec_type_3[row['feltnavn']] = df_rec_type_3[0].apply(lambda x: x[start_pos:end_pos])\n",
    "        \n",
    "    # henter kun kolonnene vi er intersert i ved bruk av kolonne \"Feltnavn\" fra mottaker_df som inneholder navn på alle kolonner\n",
    "    df_barn_stonad = df_rec_type_3[barn_df_stonad['feltnavn']]\n",
    "    df_barn_stonad = df_barn_stonad.replace(r'^\\s*$', None, regex=True)\n",
    "    \n",
    "    filt = (((df_barn_stonad['FORSKUDD'].fillna(0).astype(int) > 0)|(df_barn_stonad['BIDRAG_G'].fillna(0).astype(int) > 0) ))\n",
    "    df_barn_stonad = df_barn_stonad.loc[filt].copy()\n",
    "\n",
    "    ####### barn_berm basert på barn_stønad data (merk filteren)\n",
    "\n",
    "    hent_barn_berm_data(df_barn_stonad, i)"
   ]
  },
  {
   "cell_type": "code",
   "execution_count": null,
   "id": "5d811be1-bc63-4a7a-ad63-bea1531a5759",
   "metadata": {},
   "outputs": [],
   "source": []
  },
  {
   "cell_type": "code",
   "execution_count": null,
   "id": "118ae3a0-d5a8-409c-8c05-447a87ac7494",
   "metadata": {},
   "outputs": [],
   "source": []
  },
  {
   "cell_type": "code",
   "execution_count": null,
   "id": "fbf5da6d-6317-49f5-a99d-0507ecdc52ea",
   "metadata": {},
   "outputs": [],
   "source": []
  },
  {
   "cell_type": "code",
   "execution_count": null,
   "id": "7b880fd9-a1be-4d46-82bb-d0694e77fc2b",
   "metadata": {},
   "outputs": [],
   "source": []
  },
  {
   "cell_type": "code",
   "execution_count": null,
   "id": "3dfbcac8-f1f0-44c6-930e-8da1a89380f7",
   "metadata": {},
   "outputs": [],
   "source": [
    "#### single periode\n",
    "\n",
    "df_stonad = pd.read_csv(f\"../data/BIDRAG_STONAD_M202301.txt\", skip_blank_lines=True, sep='\\0', header=None)\n",
    "\n",
    "df_stonad['REC_TYPE'] = df_stonad[0].apply(lambda x: x[13:15])\n",
    "filt = (df_stonad['REC_TYPE'] == '03')\n",
    "df_rec_type_3 = df_stonad.loc[filt].copy()\n",
    "\n",
    "# her henter vi kolonne navn, posisjoner fra barn_df_stonad (excel fila) og så henter data fra filen BIDRAG_STONAD_M2023xx basert på kolonne og posisjoner\n",
    "for index, row in barn_df_stonad.iterrows():\n",
    "    start_pos = row['start_pos'] - 1\n",
    "    end_pos = start_pos + row['antall_pos']\n",
    "    df_rec_type_3[row['feltnavn']] = df_rec_type_3[0].apply(lambda x: x[start_pos:end_pos])\n",
    "    \n",
    "# henter kun kolonnene vi er intersert i ved bruk av kolonne \"Feltnavn\" fra mottaker_df som inneholder navn på alle kolonner\n",
    "df_barn_stonad = df_rec_type_3[barn_df_stonad['feltnavn']]\n",
    "df_barn_stonad = df_barn_stonad.replace(r'^\\s*$', None, regex=True)\n",
    "\n",
    "filt = (((df_barn_stonad['FORSKUDD'].fillna(0).astype(int) > 0)|(df_barn_stonad['BIDRAG_G'].fillna(0).astype(int) > 0) ))\n",
    "df_barn_stonad = df_barn_stonad.loc[filt].copy()\n",
    "\n",
    "\n",
    "####### barn berm #########\n",
    "\n",
    "df_berm = pd.read_csv(f\"../data/BIDRAG_BERM_M202301\", skip_blank_lines=True, sep='\\0', header=None)\n",
    "\n",
    "df_berm['REC_TYPE'] = df_berm[0].apply(lambda x: x[13:15])\n",
    "filt = (df_berm['REC_TYPE'] == '03')\n",
    "df_rec_type_3 = df_berm.loc[filt].copy()\n",
    "\n",
    "for index, row in barn_df_berm.iterrows():\n",
    "    start_pos = row['start_pos'] - 1\n",
    "    end_pos = start_pos + row['antall_pos']\n",
    "    #print(row['feltnavn'],start_pos, end_pos)\n",
    "    df_rec_type_3[row['feltnavn']] = df_rec_type_3[0].apply(lambda x: x[start_pos:end_pos])\n",
    "    \n",
    "# henter kun kolonnene vi er intersert i ved bruk av kolonne \"Feltnavn\" fra barn_berm som inneholder navn på alle kolonner\n",
    "df_barn_berm = df_rec_type_3[barn_df_berm['feltnavn']]\n",
    "df_barn_berm = df_barn_berm.replace(r'^\\s*$', None, regex=True)\n",
    "\n",
    "# Filter df_mottaker based on SAKSNR in df_barn\n",
    "df_barn_berm = df_barn_berm[df_barn_berm['Saksnr'].isin(df_barn_stonad['SAKSNR'])]\n",
    "\n",
    "df_barn_berm = df_barn_berm.loc[filt].copy()\n",
    "\n",
    "df_barn_berm['Bidrbe'] = pd.to_numeric(df_barn_berm['Bidrbe'].str.strip())\n",
    "\n",
    "######## Mottaker ##########\n",
    "\n",
    "mottaker_df_berm = pd.read_excel('./posisjoner/mottaker_berm_posisjoner.xlsx',header=0 )\n",
    "mottaker_df_berm.rename(columns={\"Feltnavn\": \"feltnavn\", \"Start-pos. i BBM-fila\": \"start_pos\", \"Antall posi-sjoner\": \"antall_pos\"}, inplace = True)\n",
    "\n",
    "df_berm['REC_TYPE'] = df_berm[0].apply(lambda x: x[13:15])\n",
    "filt = (df_berm['REC_TYPE'] == '02')\n",
    "df_rec_type_2 = df_berm.loc[filt].copy()\n",
    "\n",
    "for index, row in mottaker_df_berm.iterrows():\n",
    "    start_pos = row['start_pos'] - 1\n",
    "    end_pos = start_pos + row['antall_pos']\n",
    "    df_rec_type_2[row['feltnavn']] = df_rec_type_2[0].apply(lambda x: x[start_pos:end_pos])\n",
    "\n",
    "# henter kun kolonnene vi er intersert i ved bruk av kolonne \"Feltnavn\" fra mottaker_df som inneholder navn på alle kolonner\n",
    "df_mottaker_berm = df_rec_type_2[mottaker_df_berm['feltnavn']]\n",
    "df_mottaker_berm = df_mottaker_berm.replace(r'^\\s*$', None, regex=True)\n",
    "\n",
    "# Filter df_mottaker based on SAKSNR in df_barn\n",
    "df_mottaker_berm = df_mottaker_berm[df_mottaker_berm['Saksnr'].isin(df_barn_berm['Saksnr'])]\n",
    "\n",
    "########### pliktig berm ##########\n",
    "\n",
    "pliktig_df_berm = pd.read_excel('./posisjoner/pliktig_berm_posisjoner.xlsx',header=0 )\n",
    "pliktig_df_berm.rename(columns={\"Feltnavn\": \"feltnavn\", \"Start-pos. i BBM-fila\": \"start_pos\", \"Antall posi-sjoner\": \"antall_pos\"}, inplace = True)\n",
    "\n",
    "df_berm['REC_TYPE'] = df_berm[0].apply(lambda x: x[13:15])\n",
    "filt = (df_berm['REC_TYPE'] == '01')\n",
    "df_rec_type_1 = df_berm.loc[filt].copy()\n",
    "\n",
    "for index, row in pliktig_df_berm.iterrows():\n",
    "    start_pos = row['start_pos'] - 1\n",
    "    end_pos = start_pos + row['antall_pos']\n",
    "    df_rec_type_1[row['feltnavn']] = df_rec_type_1[0].apply(lambda x: x[start_pos:end_pos])\n",
    "\n",
    "# henter kun kolonnene vi er intersert i ved bruk av kolonne \"Feltnavn\" fra mottaker_df som inneholder navn på alle kolonner\n",
    "df_pliktig_berm = df_rec_type_1[pliktig_df_berm['feltnavn']]\n",
    "df_pliktig_berm = df_pliktig_berm.replace(r'^\\s*$', None, regex=True)\n",
    "\n",
    "# Filter df_mottaker based on SAKSNR in df_barn\n",
    "df_pliktig_berm = df_pliktig_berm[df_pliktig_berm['Saksnr'].isin(df_barn_berm['Saksnr'])]\n",
    "\n",
    "# Replace commas with dots and convert to numeric\n",
    "df_pliktig_berm['Antbarnh'] = df_pliktig_berm['Antbarnh'].str.replace(',', '.', regex=False).astype(float)\n",
    "\n",
    "\n"
   ]
  },
  {
   "cell_type": "code",
   "execution_count": null,
   "id": "a303aca5-4487-42ce-8239-f44abcc125a4",
   "metadata": {},
   "outputs": [],
   "source": [
    "df_mottaker_berm"
   ]
  },
  {
   "cell_type": "code",
   "execution_count": null,
   "id": "1143729c-0404-48ad-a68f-882494e748f7",
   "metadata": {},
   "outputs": [],
   "source": [
    "# feil format (Kontsbel, Barnetilbel)\n",
    "df_mottaker_berm.Barnetilfors.str.isnumeric().unique()"
   ]
  },
  {
   "cell_type": "code",
   "execution_count": null,
   "id": "5b5d4725-4a07-4330-b150-af6edefa511f",
   "metadata": {},
   "outputs": [],
   "source": [
    "non_numeric_rows = df_mottaker_berm[~df_mottaker_berm.Barnetilbel.str.isnumeric()]\n",
    "non_numeric_rows.Barnetilbel.unique()"
   ]
  },
  {
   "cell_type": "code",
   "execution_count": null,
   "id": "bc68ba41-61bf-4ce7-b772-e46f8217caa7",
   "metadata": {},
   "outputs": [],
   "source": []
  },
  {
   "cell_type": "code",
   "execution_count": null,
   "id": "466996cd-8c09-4d2d-ac8c-4703d078a6cb",
   "metadata": {},
   "outputs": [],
   "source": []
  },
  {
   "cell_type": "code",
   "execution_count": null,
   "id": "ec1b75a4-ba94-46b2-82cb-eab45b0f8813",
   "metadata": {},
   "outputs": [],
   "source": [
    "df_pliktig_berm"
   ]
  },
  {
   "cell_type": "code",
   "execution_count": null,
   "id": "ad080132-1514-476a-a8f1-36c7b10665ad",
   "metadata": {},
   "outputs": [],
   "source": [
    "# feil format (Antbarnh)\n",
    "df_pliktig_berm.Bidrevne.str.isnumeric().unique()"
   ]
  },
  {
   "cell_type": "code",
   "execution_count": null,
   "id": "e835860b-cfff-44b5-a038-b171df31d410",
   "metadata": {},
   "outputs": [],
   "source": [
    "non_numeric_rows = df_pliktig_berm[~df_pliktig_berm.Inntbel1.str.isnumeric()]\n",
    "non_numeric_rows.Inntbel1.unique()"
   ]
  },
  {
   "cell_type": "code",
   "execution_count": null,
   "id": "af89c4f5-583d-4e76-8d39-b763e82757fe",
   "metadata": {},
   "outputs": [],
   "source": []
  },
  {
   "cell_type": "code",
   "execution_count": null,
   "id": "aab83cbe-3cd0-432f-be6a-20cfe14e4f94",
   "metadata": {},
   "outputs": [],
   "source": []
  },
  {
   "cell_type": "code",
   "execution_count": null,
   "id": "d277e782-250b-489f-9789-2c116c10bc70",
   "metadata": {},
   "outputs": [],
   "source": []
  },
  {
   "cell_type": "code",
   "execution_count": null,
   "id": "674ba021-9ddb-4335-b254-d6ef7c2a8343",
   "metadata": {},
   "outputs": [],
   "source": [
    "def hent_barn_berm_data(df, i):\n",
    "    df_berm = pd.read_csv(f\"../data/BIDRAG_BERM_M2023{i}\", skip_blank_lines=True, sep='\\0', header=None)\n",
    "\n",
    "    df_berm['REC_TYPE'] = df_berm[0].apply(lambda x: x[13:15])\n",
    "    filt = (df_berm['REC_TYPE'] == '03')\n",
    "    df_rec_type_3 = df_berm.loc[filt].copy()\n",
    "    \n",
    "    for index, row in barn_df_berm.iterrows():\n",
    "        start_pos = row['start_pos'] - 1\n",
    "        end_pos = start_pos + row['antall_pos']\n",
    "        #print(row['feltnavn'],start_pos, end_pos)\n",
    "        df_rec_type_3[row['feltnavn']] = df_rec_type_3[0].apply(lambda x: x[start_pos:end_pos])\n",
    "        \n",
    "    # henter kun kolonnene vi er intersert i ved bruk av kolonne \"Feltnavn\" fra barn_berm som inneholder navn på alle kolonner\n",
    "    df_barn_berm = df_rec_type_3[barn_df_berm['feltnavn']]\n",
    "    df_barn_berm = df_barn_berm.replace(r'^\\s*$', None, regex=True)\n",
    "    \n",
    "    # Filter df_mottaker based on SAKSNR in df_barn\n",
    "    df_barn_berm = df_barn_berm[df_barn_berm['Saksnr'].isin(df_barn_stonad['SAKSNR'])]\n",
    "    \n",
    "    df_barn_berm = df_barn_berm.loc[filt].copy()\n",
    "\n",
    "    df_barn_berm['Bidrbe'] = pd.to_numeric(df_barn_berm['Bidrbe'].str.strip()) # convert this value '0      ' to nummeric 0\n",
    "\n",
    "    with oracledb.connect(user=user, password = oracle_secrets['password'], dsn=dsn_tns) as conn:\n",
    "        with conn.cursor() as cursor:\n",
    "            rows = [tuple(x) for x in df_barn_berm.values]\n",
    "            cursor.executemany('''INSERT INTO FAM_BB_BARN_BERM(PERIODE,SAKSNR,REC_TYPE,OBJNR,FNR,VEDTDATO,BIDRBE,BIDRBEL,BIDRTIL,BIDRES,HGBERM,UGBERM,AARSAK,SAMV,UNDERH,INNTTYP1,INNTTYP2,INNTTYP3,INNTTYP4,INNTTYP5,KONTST,\n",
    "            INNTBEL1,INNTBEL2,INNTBEL3,INNTBEL4,INNTBEL5,KONTSBEL,BTILRED,HD,STDEKN,BTBEL,BTFAK,FORPL,TELLER,NEVNER,BPDELU,VIRKDATOBB,VEDTDATOFO,VIRKDATOFO,BPPROS,BTSKODE) \n",
    "                                    VALUES (:1,:2,:3,:4,:5,:6,:7,:8,:9,:10,:11,:12,:13,:14,:15,:16,:17,:18,:19,:20,:21,:22,:23,:24,\n",
    "                                    :25,:26,:27,:28,:29,:30,:31,:32,:33,:34,:35,:36,:37,:38,:39,:40,:41)''',rows)\n",
    "            conn.commit()\n",
    "            \n",
    "    hent_mottaker_berm_data(df_berm, df_barn_berm, conn)\n",
    "    \n",
    "    hent_pliktig_berm_data(df_berm, df_barn_berm, conn)"
   ]
  },
  {
   "cell_type": "code",
   "execution_count": null,
   "id": "076f3489-f754-4ab2-beaf-b67696fd8641",
   "metadata": {},
   "outputs": [],
   "source": [
    "\n",
    "    "
   ]
  },
  {
   "cell_type": "code",
   "execution_count": null,
   "id": "2ff7e8d8-f533-4295-be5f-5da3075d0b76",
   "metadata": {},
   "outputs": [],
   "source": [
    "def hent_pliktig_berm_data(df_berm, df_barn_berm, conn):\n",
    "\n",
    "    pliktig_df_berm = pd.read_excel('./posisjoner/pliktig_berm_posisjoner.xlsx',header=0 )\n",
    "    pliktig_df_berm.rename(columns={\"Forslag til Feltnavn\": \"feltnavn\", \"Start-pos. i BBM-fila\": \"start_pos\", \"Antall posi-sjoner\": \"antall_pos\"}, inplace = True)\n",
    "\n",
    "    df_berm['REC_TYPE'] = df_berm[0].apply(lambda x: x[13:15])\n",
    "    filt = (df_berm['REC_TYPE'] == '01')\n",
    "    df_rec_type_1 = df_berm.loc[filt].copy()\n",
    "\n",
    "    for index, row in pliktig_df_berm.iterrows():\n",
    "        start_pos = row['start_pos'] - 1\n",
    "        end_pos = start_pos + row['antall_pos']\n",
    "        df_rec_type_1[row['feltnavn']] = df_rec_type_1[0].apply(lambda x: x[start_pos:end_pos])\n",
    "\n",
    "    # henter kun kolonnene vi er intersert i ved bruk av kolonne \"Feltnavn\" fra mottaker_df som inneholder navn på alle kolonner\n",
    "    df_pliktig_berm = df_rec_type_1[pliktig_df_berm['feltnavn']]\n",
    "    df_pliktig_berm = df_pliktig_berm.replace(r'^\\s*$', None, regex=True)\n",
    "\n",
    "    # Filter df_mottaker based on SAKSNR in df_barn\n",
    "    df_pliktig_berm = df_pliktig_berm[df_pliktig_berm['SAKSNR'].isin(df_barn_berm['SAKSNR'])]\n",
    "\n",
    "     with conn.cursor() as cursor:\n",
    "        rows = [tuple(x) for x in df_pliktig_berm.values]\n",
    "        cursor.executemany('''INSERT INTO FAM_BB_PLIKTIG_BERM('PERIODE','SAKSNR','REC_TYPE','FNR','VEDTDATO','ANTBARNH','INNTTYP1','INNTTYP2','INNTTYP3'\n",
    "                    ,'INNTTYP4','INNTTYP5','KONTST','INNTBEL1','INNTBEL2','INNTBEL3','INNTBEL4','INNTBEL5','KONTSBEL','BTILRED','BARNETILBEL','BARNETILFORS','BIDREVNE','BOFORHOLD')\n",
    "                            VALUES (:1,:2,:3,:4,:5,:6,:7,:8,:9,:10,:11,:12,:13,:14,:15,:16,:17,:18,:19,:20,:21,:22,:23)''', rows)\n",
    "         conn.commit()\n",
    "       "
   ]
  },
  {
   "cell_type": "code",
   "execution_count": null,
   "id": "5f37a154-9178-4761-ae11-2d13900da570",
   "metadata": {},
   "outputs": [],
   "source": []
  },
  {
   "cell_type": "code",
   "execution_count": null,
   "id": "1be97b2d-d711-4999-934d-5a808b9e9f2c",
   "metadata": {},
   "outputs": [],
   "source": []
  },
  {
   "cell_type": "code",
   "execution_count": null,
   "id": "85b172ff-f18d-4c15-a776-e3e3dd8e55a1",
   "metadata": {},
   "outputs": [],
   "source": [
    "df_barn_berm.Bidrbe.str.isnumeric().unique()"
   ]
  },
  {
   "cell_type": "code",
   "execution_count": null,
   "id": "ea2fa42d-3b11-4c53-b52e-8ba92b398016",
   "metadata": {},
   "outputs": [],
   "source": [
    "non_numeric_rows = df_barn_berm[~df_barn_berm.Inntbel5.str.isnumeric()]\n",
    "non_numeric_rows.Inntbel5.unique()"
   ]
  },
  {
   "cell_type": "code",
   "execution_count": null,
   "id": "f6bbeee2-731d-4cd3-ba68-69fdf5c60a64",
   "metadata": {},
   "outputs": [],
   "source": [
    "filt = (df_barn_berm.Bidrbe != '000 0000')\n",
    "df_barn_berm.loc[filt]"
   ]
  },
  {
   "cell_type": "code",
   "execution_count": null,
   "id": "ab17bdbd-f5a5-4a0b-a94b-f5d52a048508",
   "metadata": {},
   "outputs": [],
   "source": [
    "# Strip leading/trailing spaces and replace non-numeric '0' with numeric 0\n",
    "df_barn_berm['Bidrbe'] = df_barn_berm['Bidrbe'].str.strip()  # Remove leading/trailing spaces\n",
    "df_barn_berm['Bidrbe'] = df_barn_berm['Bidrbe'].astype(int)#replace('0', '0.0')  # Ensure 0 is treated as numeric\n",
    "\n",
    "# Convert the column to numeric, forcing errors to NaN, then replace NaN with 0\n",
    "#df_barn_berm['Bidrbe'] = pd.to_numeric(df_barn_berm['Bidrbe'], errors='coerce').fillna(0)\n",
    "\n",
    "# Check the result\n",
    "df_barn_berm.Bidrbe.unique()\n"
   ]
  },
  {
   "cell_type": "code",
   "execution_count": null,
   "id": "1fe00935-a1bb-4f25-98d5-26d331e9d36f",
   "metadata": {},
   "outputs": [],
   "source": [
    "def do_tl():\n",
    "\n",
    "    user = oracle_secrets['user'] + '[DVH_FAM_BB]'\n",
    "    dsn_tns = oracledb.makedsn(oracle_secrets['host'], 1521, service_name = oracle_secrets['service'])\n",
    "\n",
    "    df_berm = pd.read_csv(f\"data/BIDRAG_BERM_M202301\", skip_blank_lines=True, sep='\\0', header=None)\n",
    "\n",
    "    #TODO\n",
    "    df_berm['REC_TYPE'] = df_berm[0].apply(lambda x: x[13:15])\n",
    "    filt = (df_berm['REC_TYPE'] == '03')\n",
    "    df_rec_type_3 = df_berm.loc[filt].copy()\n",
    "\n",
    "    for index, row in barn_df.iterrows():\n",
    "        start_pos = row['start_pos'] - 1\n",
    "        end_pos = start_pos + row['antall_pos']\n",
    "        #print(row['feltnavn'],start_pos, end_pos)\n",
    "        df_rec_type_3[row['feltnavn']] = df_rec_type_3[0].apply(lambda x: x[start_pos:end_pos])\n",
    "        \n",
    "    # henter kun kolonnene vi er intersert i ved bruk av kolonne \"Feltnavn\" fra mottaker_df som inneholder navn på alle kolonner\n",
    "    df_barn = df_rec_type_3[barn_df['feltnavn']]\n",
    "    df_barn = df_barn.replace(r'^\\s*$', None, regex=True)\n",
    "\n",
    "    # Filter df_mottaker based on SAKSNR in df_barn\n",
    "    df_barn = df_barn[df_barn['Saksnr'].isin(df_barn_stonad['SAKSNR'])]\n",
    "    \n",
    "    df_barn = df_barn.loc[filt].copy()\n",
    "\n",
    "    #(forskbis>0 or bidragg>0)\n",
    "\n",
    "    #print(df_barn.head(5))\n",
    "\n",
    "    with oracledb.connect(user=user, password = oracle_secrets['password'], dsn=dsn_tns) as conn:\n",
    "            with conn.cursor() as cursor:\n",
    "                rows = [tuple(x) for x in df_barn.values]\n",
    "                cursor.executemany('''INSERT INTO FAM_BB_BARN_BERM(PERIODE,SAKSNR,REC_TYPE,OBJNR,FNR,VEDTDATO,BIDRBE,BIDRBEL,BIDRTIL,BIDRES,HGBERM,UGBERM,AARSAK,SAMV,UNDERH,INNTTYP1,INNTTYP2,INNTTYP3,INNTTYP4,INNTTYP5,KONTST,\n",
    "    INNTBEL1,INNTBEL2,INNTBEL3,INNTBEL4,INNTBEL5,KONTSBEL,BTILRED,HD,STDEKN,BTBEL,BTFAK,FORPL,TELLER,NEVNER,BPDELU,VIRKDATOBB,VEDTDATOFO,VIRKDATOFO,BPPROS,BTSKODE) \n",
    "                                        VALUES (:1,:2,:3,:4,:5,:6,:7,:8,:9,:10,:11,:12,:13,:14,:15,:16,:17,:18,:19,:20,:21,:22,:23,:24,\n",
    "                                        :25,:26,:27,:28,:29,:30,:31,:32,:33,:34,:35,:36,:37,:38,:39,:40,:41)''',rows)\n",
    "                conn.commit()\n",
    "   "
   ]
  },
  {
   "cell_type": "code",
   "execution_count": null,
   "id": "04d10e0b-3e90-4c5e-b6ad-4bb9918687e7",
   "metadata": {
    "scrolled": true
   },
   "outputs": [],
   "source": [
    "do_tl()"
   ]
  },
  {
   "cell_type": "code",
   "execution_count": null,
   "id": "25dc4627-3bd1-40a6-8a1b-e1ae75b37446",
   "metadata": {},
   "outputs": [],
   "source": []
  },
  {
   "cell_type": "code",
   "execution_count": null,
   "id": "809b0246-a4ce-4551-8df5-214fabbede8e",
   "metadata": {},
   "outputs": [],
   "source": [
    "import os\n",
    "\n",
    "for filename in os.listdir('../data'):\n",
    "    if os.path.isfile(os.path.join('../data', filename)):\n",
    "        os.remove(os.path.join('../data', filename))"
   ]
  },
  {
   "cell_type": "code",
   "execution_count": null,
   "id": "d8bdf322-40c9-4b00-8a97-e70e727f035a",
   "metadata": {},
   "outputs": [],
   "source": []
  }
 ],
 "metadata": {
  "kernelspec": {
   "display_name": "Python 3 (ipykernel)",
   "language": "python",
   "name": "python3"
  },
  "language_info": {
   "codemirror_mode": {
    "name": "ipython",
    "version": 3
   },
   "file_extension": ".py",
   "mimetype": "text/x-python",
   "name": "python",
   "nbconvert_exporter": "python",
   "pygments_lexer": "ipython3",
   "version": "3.11.10"
  }
 },
 "nbformat": 4,
 "nbformat_minor": 5
}
