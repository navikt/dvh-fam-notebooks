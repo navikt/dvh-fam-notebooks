{
 "cells": [
  {
   "cell_type": "code",
   "execution_count": 1,
   "id": "8222e7c7-c328-4d68-a353-38e8ffc2294a",
   "metadata": {},
   "outputs": [],
   "source": [
    "import oracledb, os, json\n",
    "from google.cloud import secretmanager\n",
    "import pandas as pd\n",
    "import numpy as np\n",
    "import paramiko\n",
    "import datetime\n",
    "from io import StringIO\n",
    "\n",
    "import warnings\n",
    "warnings.filterwarnings('ignore')"
   ]
  },
  {
   "cell_type": "code",
   "execution_count": 3,
   "id": "7274541e-a127-4729-b202-413451b998b7",
   "metadata": {},
   "outputs": [],
   "source": [
    "def set_secrets_as_envs():\n",
    "  secrets = secretmanager.SecretManagerServiceClient()\n",
    "  resource_name = f\"{os.environ['KNADA_TEAM_SECRET']}/versions/latest\"\n",
    "  secret = secrets.access_secret_version(name=resource_name)\n",
    "  secret_str = secret.payload.data.decode('UTF-8')\n",
    "  secrets = json.loads(secret_str)\n",
    "  os.environ.update(secrets)"
   ]
  },
  {
   "cell_type": "code",
   "execution_count": 4,
   "id": "a165b592-c28c-4b13-af69-aeb267646926",
   "metadata": {},
   "outputs": [],
   "source": [
    "def oracle_secrets():\n",
    "  set_secrets_as_envs()\n",
    "  return dict(\n",
    "    user=os.getenv('DB_USER'),\n",
    "    password=os.getenv('DB_PASSWORD'),\n",
    "    host = os.getenv('DBT_ORCL_HOST'),\n",
    "    service = os.getenv('DBT_ORCL_SERVICE'),\n",
    "    sftpkey = os.getenv('SFTPKEY'),\n",
    "    encoding=\"UTF-8\",\n",
    "    nencoding=\"UTF-8\"\n",
    "  )\n",
    "\n",
    "oracle_secrets = oracle_secrets()"
   ]
  },
  {
   "cell_type": "code",
   "execution_count": null,
   "id": "af157a0d-b5a5-4ac4-86ea-3f43bbe9f842",
   "metadata": {},
   "outputs": [],
   "source": [
    "def do_berm_stonad_etl(periode):\n",
    "    keyfile = StringIO(oracle_secrets['sftpkey'])\n",
    "    mykey = paramiko.RSAKey.from_private_key(keyfile, password=np.nan)\n",
    "\n",
    "    # Open a transport\n",
    "    host,port = \"a01drvl099.adeo.no\",22\n",
    "    transport = paramiko.Transport((host,port))\n",
    "\n",
    "    # Auth    \n",
    "    username= \"srv-dv-familie-airflow-sas\"\n",
    "    transport.connect(username=username,pkey=mykey)\n",
    "\n",
    "    with paramiko.SFTPClient.from_transport(transport) as sftp:\n",
    "        local_dir = 'data'\n",
    "        if not os.path.exists(local_dir):\n",
    "            os.makedirs(local_dir)\n",
    "        sftp.get(f'./inbound/kildefiler/bidrag/BIDRAG_BERM_M{periode}', f'data/BIDRAG_BERM_M{periode}')\n",
    "        sftp.get(f'./inbound/kildefiler/bidrag/BIDRAG_STONAD_M{periode}', f'data/BIDRAG_STONAD_M{periode}')\n",
    "\n",
    "    # Close\n",
    "    if sftp: sftp.close()\n",
    "    if transport: transport.close()"
   ]
  },
  {
   "cell_type": "code",
   "execution_count": 16,
   "id": "734e1945-9ef4-439a-a7b3-3cf93b905047",
   "metadata": {},
   "outputs": [],
   "source": [
    "def get_periode():\n",
    "    today = datetime.date.today() # dato for idag 2022-04-19\n",
    "    first = today.replace(day=1) # dato for første dag i måneden 2022-04-01\n",
    "    lastMonth = first - datetime.timedelta(days=1) # dato for siste dag i tidligere måneden\n",
    "\n",
    "    return lastMonth.strftime(\"%Y%m\") # henter bare aar og maaned"
   ]
  },
  {
   "cell_type": "code",
   "execution_count": null,
   "id": "23f31267-0e2e-4d25-97e6-9f3c9a14bdef",
   "metadata": {},
   "outputs": [],
   "source": [
    "periode = get_periode()\n",
    "\n",
    "do_berm_stonad_etl(periode)"
   ]
  },
  {
   "cell_type": "code",
   "execution_count": null,
   "id": "9d0866e1",
   "metadata": {},
   "outputs": [],
   "source": [
    "%%bash\n",
    "\n",
    "per=$(python -c 'import datetime; print((datetime.date.today().replace(day=1)-datetime.timedelta(days=1)).strftime(\"%Y%m\"))')\n",
    "\n",
    "cat data/BIDRAG_STONAD_M$per | tr -d '\\000' > data/BIDRAG_STONAD_M$per.txt"
   ]
  },
  {
   "cell_type": "code",
   "execution_count": null,
   "id": "11bd3a6d-5026-47f0-bdb0-7aac4bda5526",
   "metadata": {},
   "outputs": [],
   "source": [
    "barn_df_stonad = pd.read_excel('posisjoner/barn_stonad_pos.xlsx',header=0 )\n",
    "barn_df_stonad.rename(columns={\"Variabel-navn\": \"feltnavn\", \"Start-pos. i Bidrag-fila\": \"start_pos\", \"Antall posi-sjoner\": \"antall_pos\"}, inplace = True)\n",
    "\n",
    "barn_df_berm = pd.read_excel('posisjoner/barn_berm_posisjoner.xlsx',header=0 )\n",
    "barn_df_berm.rename(columns={\"Forslag til Feltnavn\": \"feltnavn\", \"Start-pos. i BBM-fila\": \"start_pos\", \"Antall posi-sjoner\": \"antall_pos\"}, inplace = True)"
   ]
  },
  {
   "cell_type": "code",
   "execution_count": 20,
   "id": "e946cdeb-74b7-4568-b8de-10ab6cf07b5f",
   "metadata": {},
   "outputs": [],
   "source": [
    "user = oracle_secrets['user'] + '[DVH_FAM_BB]'\n",
    "dsn_tns = oracledb.makedsn(oracle_secrets['host'], 1521, service_name = oracle_secrets['service'])"
   ]
  },
  {
   "cell_type": "code",
   "execution_count": null,
   "id": "28815c59-1134-44fe-a00a-545f55d07260",
   "metadata": {},
   "outputs": [],
   "source": [
    "def hent_mottaker_berm_data(df_berm, df_barn_berm):\n",
    "\n",
    "    mottaker_df_berm = pd.read_excel('posisjoner/mottaker_berm_posisjoner.xlsx',header=0 )\n",
    "    mottaker_df_berm.rename(columns={\"Feltnavn\": \"feltnavn\", \"Start-pos. i BBM-fila\": \"start_pos\", \"Antall posi-sjoner\": \"antall_pos\"}, inplace = True)\n",
    "\n",
    "    df_berm['REC_TYPE'] = df_berm[0].apply(lambda x: x[13:15])\n",
    "    filt = (df_berm['REC_TYPE'] == '02')\n",
    "    df_rec_type_2 = df_berm.loc[filt].copy()\n",
    "\n",
    "    for index, row in mottaker_df_berm.iterrows():\n",
    "        start_pos = row['start_pos'] - 1\n",
    "        end_pos = start_pos + row['antall_pos']\n",
    "        df_rec_type_2[row['feltnavn']] = df_rec_type_2[0].apply(lambda x: x[start_pos:end_pos])\n",
    "\n",
    "    # henter kun kolonnene vi er intersert i ved bruk av kolonne \"Feltnavn\" fra mottaker_df som inneholder navn på alle kolonner\n",
    "    df_mottaker_berm = df_rec_type_2[mottaker_df_berm['feltnavn']]\n",
    "    df_mottaker_berm = df_mottaker_berm.replace(r'^\\s*$', None, regex=True)\n",
    "\n",
    "    # Filter df_mottaker based on SAKSNR in df_barn\n",
    "    df_mottaker_berm = df_mottaker_berm[df_mottaker_berm['Saksnr'].isin(df_barn_berm['Saksnr'])]\n",
    "\n",
    "    with oracledb.connect(user=user, password = oracle_secrets['password'], dsn=dsn_tns) as conn:\n",
    "        with conn.cursor() as cursor:\n",
    "            rows = [tuple(x) for x in df_mottaker_berm.values]\n",
    "            cursor.executemany('''INSERT INTO STG_FAM_BB_MOTTAKER_BERM(PERIODE,SAKSNR,REC_TYPE,FNR,VEDTDATO,SKATTFOR,INNTTYP1,INNTTYP2,INNTTYP3,INNTTYP4,INNTTYP5,KONTST\n",
    "                                ,INNTBEL1,INNTBEL2,INNTBEL3,INNTBEL4,INNTBEL5,KONTSBEL,BTILRED,BARNETILBEL,BARNETILFORS)\n",
    "                                VALUES (:1,:2,:3,:4,:5,:6,:7,:8,:9,:10,:11,:12,:13,:14,:15,:16,:17,:18,:19,:20,:21)''', rows)\n",
    "            conn.commit()"
   ]
  },
  {
   "cell_type": "code",
   "execution_count": null,
   "id": "b3c50375-879e-49a0-8fda-f74ea00663d4",
   "metadata": {},
   "outputs": [],
   "source": [
    "def hent_pliktig_berm_data(df_berm, df_barn_berm):\n",
    "\n",
    "    pliktig_df_berm = pd.read_excel('posisjoner/pliktig_berm_posisjoner.xlsx',header=0 )\n",
    "    pliktig_df_berm.rename(columns={\"Feltnavn\": \"feltnavn\", \"Start-pos. i BBM-fila\": \"start_pos\", \"Antall posi-sjoner\": \"antall_pos\"}, inplace = True)\n",
    "\n",
    "    df_berm['REC_TYPE'] = df_berm[0].apply(lambda x: x[13:15])\n",
    "    filt = (df_berm['REC_TYPE'] == '01')\n",
    "    df_rec_type_1 = df_berm.loc[filt].copy()\n",
    "\n",
    "    for index, row in pliktig_df_berm.iterrows():\n",
    "        start_pos = row['start_pos'] - 1\n",
    "        end_pos = start_pos + row['antall_pos']\n",
    "        df_rec_type_1[row['feltnavn']] = df_rec_type_1[0].apply(lambda x: x[start_pos:end_pos])\n",
    "\n",
    "    # henter kun kolonnene vi er intersert i ved bruk av kolonne \"Feltnavn\" fra mottaker_df som inneholder navn på alle kolonner\n",
    "    df_pliktig_berm = df_rec_type_1[pliktig_df_berm['feltnavn']]\n",
    "    df_pliktig_berm = df_pliktig_berm.replace(r'^\\s*$', None, regex=True)\n",
    "\n",
    "    # Filter df_mottaker based on SAKSNR in df_barn\n",
    "    df_pliktig_berm = df_pliktig_berm[df_pliktig_berm['Saksnr'].isin(df_barn_berm['Saksnr'])]\n",
    "    \n",
    "    # Replace commas with dots and convert to numeric\n",
    "    df_pliktig_berm['Antbarnh'] = df_pliktig_berm['Antbarnh'].str.replace(',', '.', regex=False).astype(float)\n",
    "\n",
    "    \n",
    "    with oracledb.connect(user=user, password = oracle_secrets['password'], dsn=dsn_tns) as conn:\n",
    "        with conn.cursor() as cursor:\n",
    "            rows = [tuple(x) for x in df_pliktig_berm.values]\n",
    "            cursor.executemany('''INSERT INTO STG_FAM_BB_PLIKTIGE_BERM(PERIODE,SAKSNR,REC_TYPE,FNR,VEDTDATO,ANTBARNH,INNTTYP1,INNTTYP2,INNTTYP3\n",
    "                        ,INNTTYP4,INNTTYP5,KONTST,INNTBEL1,INNTBEL2,INNTBEL3,INNTBEL4,INNTBEL5,KONTSBEL,BTILRED,BARNETILBEL,BARNETILFORS,BIDREVNE,BOFORHOLD)\n",
    "                                VALUES (:1,:2,:3,:4,:5,:6,:7,:8,:9,:10,:11,:12,:13,:14,:15,:16,:17,:18,:19,:20,:21,:22,:23)''', rows)\n",
    "            conn.commit()"
   ]
  },
  {
   "cell_type": "code",
   "execution_count": null,
   "id": "b671ba63-2a69-4a2a-ace3-f668335c6213",
   "metadata": {},
   "outputs": [],
   "source": [
    "def hent_barn_berm_data(df):\n",
    "    df_berm = pd.read_csv(f\"data/BIDRAG_BERM_M{periode}\", skip_blank_lines=True, sep='\\0', header=None, engine='python')\n",
    "\n",
    "    df_berm['REC_TYPE'] = df_berm[0].apply(lambda x: x[13:15])\n",
    "    filt = (df_berm['REC_TYPE'] == '03')\n",
    "    df_rec_type_3 = df_berm.loc[filt].copy()\n",
    "    \n",
    "    for index, row in barn_df_berm.iterrows():\n",
    "        start_pos = row['start_pos'] - 1\n",
    "        end_pos = start_pos + row['antall_pos']\n",
    "        #print(row['feltnavn'],start_pos, end_pos)\n",
    "        df_rec_type_3[row['feltnavn']] = df_rec_type_3[0].apply(lambda x: x[start_pos:end_pos])\n",
    "        \n",
    "    # henter kun kolonnene vi er intersert i ved bruk av kolonne \"Feltnavn\" fra barn_berm som inneholder navn på alle kolonner\n",
    "    df_barn_berm = df_rec_type_3[barn_df_berm['feltnavn']]\n",
    "    df_barn_berm = df_barn_berm.replace(r'^\\s*$', None, regex=True)\n",
    "    \n",
    "    # Filter df_barn_berm based on SAKSNR in df_barn_stonad\n",
    "    df_barn_berm = df_barn_berm[df_barn_berm['Saksnr'].isin(df['SAKSNR'])]\n",
    "    \n",
    "    df_barn_berm = df_barn_berm.loc[filt].copy()\n",
    "\n",
    "    df_barn_berm['Bidrbe'] = pd.to_numeric(df_barn_berm['Bidrbe'].str.strip()) # convert this value '0      ' to nummeric 0\n",
    "\n",
    "    with oracledb.connect(user=user, password = oracle_secrets['password'], dsn=dsn_tns) as conn:\n",
    "        with conn.cursor() as cursor:\n",
    "            rows = [tuple(x) for x in df_barn_berm.values]\n",
    "            cursor.executemany('''INSERT INTO STG_FAM_BB_BARN_BERM(PERIODE,SAKSNR,REC_TYPE,OBJNR,FNR,VEDTDATO,BIDRBE,BIDRBEL,BIDRTIL,BIDRES,HGBERM,UGBERM,AARSAK,SAMV,UNDERH,INNTTYP1,INNTTYP2,INNTTYP3,INNTTYP4,INNTTYP5,KONTST,\n",
    "            INNTBEL1,INNTBEL2,INNTBEL3,INNTBEL4,INNTBEL5,KONTSBEL,BTILRED,HD,STDEKN,BTBEL,BTFAK,FORPL,TELLER,NEVNER,BPDELU,VIRKDATOBB,VEDTDATOFO,VIRKDATOFO,BPPROS,BTSKODE) \n",
    "                                    VALUES (:1,:2,:3,:4,:5,:6,:7,:8,:9,:10,:11,:12,:13,:14,:15,:16,:17,:18,:19,:20,:21,:22,:23,:24,\n",
    "                                    :25,:26,:27,:28,:29,:30,:31,:32,:33,:34,:35,:36,:37,:38,:39,:40,:41)''',rows)\n",
    "            conn.commit()\n",
    "            \n",
    "    hent_mottaker_berm_data(df_berm, df_barn_berm)\n",
    "    \n",
    "    hent_pliktig_berm_data(df_berm, df_barn_berm)"
   ]
  },
  {
   "cell_type": "code",
   "execution_count": null,
   "id": "0a5aff77-eac9-4cea-9bd5-8390fb3a5275",
   "metadata": {},
   "outputs": [],
   "source": [
    "df_stonad = pd.read_csv(f\"data/BIDRAG_BERM_M{periode}\", skip_blank_lines=True, sep='\\0', header=None, engine='python')\n",
    "\n",
    "df_stonad['REC_TYPE'] = df_stonad[0].apply(lambda x: x[13:15])\n",
    "filt = (df_stonad['REC_TYPE'] == '03')\n",
    "df_rec_type_3 = df_stonad.loc[filt].copy()\n",
    "\n",
    "# her henter vi kolonne navn, posisjoner fra barn_df_stonad (excel fila) og så henter data fra filen BIDRAG_STONAD_M2023xx basert på kolonne og posisjoner\n",
    "for index, row in barn_df_stonad.iterrows():\n",
    "    start_pos = row['start_pos'] - 1\n",
    "    end_pos = start_pos + row['antall_pos']\n",
    "    df_rec_type_3[row['feltnavn']] = df_rec_type_3[0].apply(lambda x: x[start_pos:end_pos])\n",
    "    \n",
    "# henter kun kolonnene vi er intersert i ved bruk av kolonne \"Feltnavn\" fra mottaker_df som inneholder navn på alle kolonner\n",
    "df_barn_stonad = df_rec_type_3[barn_df_stonad['feltnavn']]\n",
    "df_barn_stonad = df_barn_stonad.replace(r'^\\s*$', None, regex=True)\n",
    "\n",
    "filt = (((df_barn_stonad['FORSKUDD'].fillna(0).astype(int) > 0)|(df_barn_stonad['BIDRAG_G'].fillna(0).astype(int) > 0) ))\n",
    "df_barn_stonad = df_barn_stonad.loc[filt].copy()\n",
    "\n",
    "####### barn_berm basert på barn_stønad data (merk filteren)\n",
    "\n",
    "hent_barn_berm_data(df_barn_stonad)"
   ]
  },
  {
   "cell_type": "code",
   "execution_count": null,
   "id": "182b67c9-8e94-47e8-ba09-4ac4cd2ddb8f",
   "metadata": {},
   "outputs": [],
   "source": [
    "import os\n",
    "\n",
    "for filename in os.listdir('data'):\n",
    "    if os.path.isfile(os.path.join('data', filename)):\n",
    "        os.remove(os.path.join('data', filename))"
   ]
  },
  {
   "cell_type": "code",
   "execution_count": null,
   "id": "1902f955-d377-4cf6-a1e9-13b4fab943a0",
   "metadata": {},
   "outputs": [],
   "source": []
  },
  {
   "cell_type": "code",
   "execution_count": null,
   "id": "c017c618-cf7e-4b33-bbe1-85e487b98da7",
   "metadata": {},
   "outputs": [],
   "source": []
  },
  {
   "cell_type": "code",
   "execution_count": null,
   "id": "ef3b9d7a-3779-4b95-a6cf-24e227da57a1",
   "metadata": {},
   "outputs": [],
   "source": []
  }
 ],
 "metadata": {
  "kernelspec": {
   "display_name": "Python 3 (ipykernel)",
   "language": "python",
   "name": "python3"
  },
  "language_info": {
   "codemirror_mode": {
    "name": "ipython",
    "version": 3
   },
   "file_extension": ".py",
   "mimetype": "text/x-python",
   "name": "python",
   "nbconvert_exporter": "python",
   "pygments_lexer": "ipython3",
   "version": "3.11.10"
  }
 },
 "nbformat": 4,
 "nbformat_minor": 5
}
