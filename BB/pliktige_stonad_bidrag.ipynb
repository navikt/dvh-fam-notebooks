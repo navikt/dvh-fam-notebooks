{
 "cells": [
  {
   "cell_type": "code",
   "execution_count": null,
   "metadata": {},
   "outputs": [],
   "source": [
    "import oracledb, os, json\n",
    "from google.cloud import secretmanager\n",
    "import pandas as pd\n",
    "import numpy as np\n",
    "import paramiko\n",
    "from io import StringIO\n",
    "from datetime import date\n",
    "from datetime import timedelta\n",
    "import datetime"
   ]
  },
  {
   "cell_type": "code",
   "execution_count": null,
   "metadata": {},
   "outputs": [],
   "source": [
    "def get_periode():\n",
    "    \"\"\"\n",
    "    henter periode for the tidligere måneden eksample--> i dag er 19.04.2022, metoden vil kalkulerer periode aarMaaned eks) '202203'\n",
    "    :param periode:\n",
    "    :return: periode\n",
    "    \"\"\"\n",
    "    today = datetime.date.today() # dato for idag 2022-04-19\n",
    "    first = today.replace(day=1) # dato for første dag i måneden 2022-04-01\n",
    "    lastMonth = first - datetime.timedelta(days=1) # dato for siste dag i tidligere måneden\n",
    "\n",
    "    return lastMonth.strftime(\"%Y%m\") # henter bare aar og maaned\n",
    "\n",
    "periode = get_periode()"
   ]
  },
  {
   "cell_type": "code",
   "execution_count": null,
   "metadata": {},
   "outputs": [],
   "source": [
    "def set_secrets_as_envs():\n",
    "  secrets = secretmanager.SecretManagerServiceClient()\n",
    "  resource_name = f\"{os.environ['KNADA_TEAM_SECRET']}/versions/latest\"\n",
    "  secret = secrets.access_secret_version(name=resource_name)\n",
    "  secret_str = secret.payload.data.decode('UTF-8')\n",
    "  secrets = json.loads(secret_str)\n",
    "  os.environ.update(secrets)"
   ]
  },
  {
   "cell_type": "code",
   "execution_count": null,
   "metadata": {},
   "outputs": [],
   "source": [
    "def oracle_secrets():\n",
    "  set_secrets_as_envs()\n",
    "  return dict(\n",
    "    user=os.getenv('DB_USER'),\n",
    "    password=os.getenv('DB_PASSWORD'),\n",
    "    host = os.getenv('DBT_ORCL_HOST'),\n",
    "    service = os.getenv('DBT_ORCL_SERVICE'),\n",
    "    sftpkey = os.getenv('SFTPKEY'),\n",
    "    encoding=\"UTF-8\",\n",
    "    nencoding=\"UTF-8\"\n",
    "  )\n",
    "\n",
    "oracle_secrets = oracle_secrets()"
   ]
  },
  {
   "cell_type": "code",
   "execution_count": null,
   "metadata": {},
   "outputs": [],
   "source": [
    "keyfile = StringIO(oracle_secrets['sftpkey'])\n",
    "mykey = paramiko.RSAKey.from_private_key(keyfile, password=np.nan)\n",
    "\n",
    "# Open a transport\n",
    "host,port = \"a01drvl099.adeo.no\",22\n",
    "transport = paramiko.Transport((host,port))\n",
    "\n",
    "# Auth    \n",
    "username= \"srv-dv-familie-airflow-sas\"\n",
    "transport.connect(username=username,pkey=mykey)\n",
    "\n",
    "with paramiko.SFTPClient.from_transport(transport) as sftp:\n",
    "    sftp.get(f'./inbound/kildefiler/bidrag/BIDRAG_STONAD_M{periode}', f'../data/BIDRAG_STONAD_M{periode}')\n",
    "\n",
    "# Close\n",
    "if sftp: sftp.close()\n",
    "if transport: transport.close()"
   ]
  },
  {
   "cell_type": "code",
   "execution_count": null,
   "metadata": {},
   "outputs": [],
   "source": [
    "%%bash\n",
    "\n",
    "cat ../data/BIDRAG_STONAD_M$periode | tr -d '\\000' > ../data/BIDRAG_STONAD_M$periode.txt"
   ]
  },
  {
   "cell_type": "code",
   "execution_count": null,
   "metadata": {},
   "outputs": [],
   "source": [
    "df = pd.read_csv(f\"../data/BIDRAG_STONAD_M2024{periode}.txt\", skip_blank_lines=True, sep='\\0', header=None)\n",
    "df['RECTY'] = df[0].apply(lambda x: x[13:15])\n",
    "\n",
    "filt = (df['RECTY'] == '01')\n",
    "df_RECTY_1 = df.loc[filt].copy()\n",
    "\n",
    "kolonne_navn = [\"@1 REGDATO  6.\", \"@7 SAKSNR   $7.\", \"@16  TKNR    $4.\", \"@14 RECTY   2.\" , \"@16 FYLKE  $2.\", \"@7 NR  $2.\", \"@22  BPFMND  $2.\",                  \n",
    "                    \"@20 BPFNR  $11.\", \"@31 ALDER    2.\", \"@33  KJONN   $1.\", \"@34 BOLAND $3.\",  \"@37 INNBTOT  7.\", \"@44 INNBUF   7.\", \"@51  INNBPK   7.\",\n",
    "                \"@58 INNBSF  7.\",   \"@65 INNBSK   7.\", \"@72 INNBKK   7.\", \"@79  INNBBK   7.\", \"@86 FPL     6.\", \"@92 SUMPL    7.\", \"@147 LOPSAK $1.\",  \n",
    "                \"@148 SAKSTYP $1.\", \"@149 OBJNR   2.\", \"@151 ANTBARNB 3.\", \"@154 BIDRSUM  7.\", \"@161 UTLVAL $3.\", \"@99 GJESUM   8.\", \"@107 GJEPK 8.\" ,\n",
    "                \"@115 GJESF  8.\", \"@123 GJESK    8.\", \"@131 GJEKK   8.\", \"@139 GJEBK    8.\" ]\n",
    "\n",
    "for i in kolonne_navn:\n",
    "    m = i.split()\n",
    "    kolonnne = m[1]\n",
    "    start_pos = int(\"\".join([str(s) for s in m[0] if s.isdigit()])) - 1\n",
    "    end_pos = int(\"\".join([str(s) for s in m[2] if s.isdigit()])) + start_pos\n",
    "    df_RECTY_1[kolonnne] = df_RECTY_1[0].apply(lambda x: x[start_pos:end_pos])\n",
    "\n",
    "df_pliktige_pos = df_RECTY_1[['REGDATO','SAKSNR','NR','RECTY','TKNR','FYLKE','BPFNR','BPFMND','ALDER','KJONN','BOLAND'\n",
    "                            ,'INNBTOT','INNBUF','INNBPK','INNBSF','INNBSK','INNBKK','INNBBK','FPL','SUMPL','LOPSAK','SAKSTYP'\n",
    "                            ,'OBJNR','ANTBARNB','BIDRSUM','UTLVAL','GJESUM','GJEPK','GJESF','GJESK','GJEKK','GJEBK']]\n",
    "df_pliktige_pos = df_pliktige_pos.replace(r'^\\s*$', None, regex=True)\n",
    "\n",
    "# filtrere vekk rader der ALDER_BM = 10 (det er de som har ALDER_BM >= 100)\n",
    "filt = ((df_pliktige_pos['ALDER'] != '10') & (df_pliktige_pos['ALDER'] != '11'))\n",
    "df_pliktige_pos = df_pliktige_pos.loc[filt]\n",
    "\n",
    "user = oracle_secrets['user'] + '[DVH_FAM_BB]'\n",
    "dsn_tns = oracledb.makedsn(oracle_secrets['host'], 1521, service_name = oracle_secrets['service'])\n",
    "\n",
    "with oracledb.connect(user=user, password = oracle_secrets['password'], dsn=dsn_tns) as conn:\n",
    "    with conn.cursor() as cursor:\n",
    "        rows = [tuple(x) for x in df_pliktige_pos.values]\n",
    "        cursor.executemany('''INSERT INTO FAM_BB_PLIKTIGE_BIS (REGDATO,SAKSNR,NR,RECTY,TKNR,FYLKE,BPFNR,BPFMND,ALDER,KJONN,BOLAND\n",
    "                                ,INNBTOT,INNBUF,INNBPK,INNBSF,INNBSK,INNBKK,INNBBK,FPL,SUMPL,LOPSAK,SAKSTYP\n",
    "                                ,OBJNR,ANTBARNB,BIDRSUM,UTLVAL,GJESUM,GJEPK,GJESF,GJESK,GJEKK,GJEBK) \n",
    "                                VALUES (:1,:2,:3,:4,:5,:6,:7,:8,:9,:10,:11,:12,:13,:14,:15,:16,:17,:18,:19,:20,:21,:22,:23,:24,:25,:26,:27,:28,:29,:30,:31,:32)''',rows)\n",
    "        conn.commit()"
   ]
  },
  {
   "cell_type": "code",
   "execution_count": null,
   "metadata": {},
   "outputs": [],
   "source": [
    "for filename in os.listdir('../data'):\n",
    "    if os.path.isfile(os.path.join('../data', filename)):\n",
    "        os.remove(os.path.join('../data', filename))"
   ]
  }
 ],
 "metadata": {
  "language_info": {
   "name": "python"
  }
 },
 "nbformat": 4,
 "nbformat_minor": 2
}
