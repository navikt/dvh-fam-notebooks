{
 "cells": [
  {
   "cell_type": "code",
   "execution_count": null,
   "metadata": {},
   "outputs": [],
   "source": [
    "import oracledb, os, json\n",
    "from google.cloud import secretmanager\n",
    "import pandas as pd\n",
    "import numpy as np\n",
    "import paramiko\n",
    "from io import StringIO\n",
    "from datetime import date\n",
    "from datetime import timedelta\n",
    "import datetime"
   ]
  },
  {
   "cell_type": "code",
   "execution_count": null,
   "metadata": {},
   "outputs": [],
   "source": [
    "def get_periode():\n",
    "    \"\"\"\n",
    "    henter periode for the tidligere måneden eksample--> i dag er 19.04.2022, metoden vil kalkulerer periode aarMaaned eks) '202203'\n",
    "    :param periode:\n",
    "    :return: periode\n",
    "    \"\"\"\n",
    "    today = datetime.date.today() # dato for idag 2022-04-19\n",
    "    first = today.replace(day=1) # dato for første dag i måneden 2022-04-01\n",
    "    lastMonth = first - datetime.timedelta(days=1) # dato for siste dag i tidligere måneden\n",
    "\n",
    "    return lastMonth.strftime(\"%Y%m\") # henter bare aar og maaned\n",
    "\n",
    "periode = get_periode()"
   ]
  },
  {
   "cell_type": "code",
   "execution_count": null,
   "metadata": {},
   "outputs": [],
   "source": [
    "def set_secrets_as_envs():\n",
    "  secrets = secretmanager.SecretManagerServiceClient()\n",
    "  resource_name = f\"{os.environ['KNADA_TEAM_SECRET']}/versions/latest\"\n",
    "  secret = secrets.access_secret_version(name=resource_name)\n",
    "  secret_str = secret.payload.data.decode('UTF-8')\n",
    "  secrets = json.loads(secret_str)\n",
    "  os.environ.update(secrets)"
   ]
  },
  {
   "cell_type": "code",
   "execution_count": null,
   "metadata": {},
   "outputs": [],
   "source": [
    "def oracle_secrets():\n",
    "  set_secrets_as_envs()\n",
    "  return dict(\n",
    "    user=os.getenv('DB_USER'),\n",
    "    password=os.getenv('DB_PASSWORD'),\n",
    "    host = os.getenv('DBT_ORCL_HOST'),\n",
    "    service = os.getenv('DBT_ORCL_SERVICE'),\n",
    "    sftpkey = os.getenv('SFTPKEY'),\n",
    "    encoding=\"UTF-8\",\n",
    "    nencoding=\"UTF-8\"\n",
    "  )\n",
    "\n",
    "oracle_secrets = oracle_secrets()"
   ]
  },
  {
   "cell_type": "code",
   "execution_count": null,
   "metadata": {},
   "outputs": [],
   "source": [
    "keyfile = StringIO(oracle_secrets['sftpkey'])\n",
    "mykey = paramiko.RSAKey.from_private_key(keyfile, password=np.nan)\n",
    "\n",
    "# Open a transport\n",
    "host,port = \"a01drvl099.adeo.no\",22\n",
    "transport = paramiko.Transport((host,port))\n",
    "\n",
    "# Auth    \n",
    "username= \"srv-dv-familie-airflow-sas\"\n",
    "transport.connect(username=username,pkey=mykey)\n",
    "\n",
    "with paramiko.SFTPClient.from_transport(transport) as sftp:\n",
    "    sftp.get(f'./inbound/kildefiler/bidrag/BIDRAG_BERM_M{periode}', f'../data/BIDRAG_BERM_M{periode}')\n",
    "    #print(sftp.listdir(path='.'))\n",
    "\n",
    "# Close\n",
    "if sftp: sftp.close()\n",
    "if transport: transport.close()"
   ]
  },
  {
   "cell_type": "code",
   "execution_count": null,
   "metadata": {},
   "outputs": [],
   "source": [
    "df = pd.read_csv(f\"../data/BIDRAG_BERM_M2024{periode}\", skip_blank_lines=True, sep='\\0', header=None, engine='python')\n",
    "df['RECTY'] = df[0].apply(lambda x: x[13:15])\n",
    "\n",
    "filt = (df['RECTY'] == '01')\n",
    "df_rec_type_1 = df.loc[filt].copy()\n",
    "\n",
    "kolonne_navn = [\"@1   REGDATO   6.\",   \"@7   SAKSNR     $7.\",     \"@14  RECTY     2.\",     \n",
    "                \"@16  BPFNR   $11.\",   \"@18  FMND       $2.\",     \"@20  FAAR     $2.\",     \n",
    "                \"@7   NR       $2.\",   \"@27  VEDTDATO   $8.\",     \"@35  ANTBARNH $3.\",                     \n",
    "                \"@38  INNTYP1  $4.\",   \"@42  INNTYP2    $4.\",     \"@46  INNTYP3  $4.\",     \n",
    "                \"@50  INNTYP4  $4.\",   \"@54  INNTYP5    $4.\",     \"@58  KONTST   $4.\",     \n",
    "                \"@62  INNTBEL1  8.\",   \"@70  INNTBEL2    8.\",     \"@78  INNTBEL3  8.\",     \n",
    "                \"@86  INNTBEL4  8.\",   \"@94  INNTBEL5    8.\",     \"@102 KONTSBEL  8.\",     \n",
    "                \"@110 BTILRED  $1.\",   \"@111 BARNETILBEL 7.\",     \"@118 BTILFORS $1.\",   \n",
    "                \"@119 BIDREVNE  7.\",   \"@126 BOFORH      2.\"]\n",
    "\n",
    "for j in kolonne_navn:\n",
    "    m = j.split()\n",
    "    kolonnne = m[1]\n",
    "    start_pos = int(\"\".join([str(s) for s in m[0] if s.isdigit()])) - 1\n",
    "    end_pos = int(\"\".join([str(s) for s in m[2] if s.isdigit()])) + start_pos\n",
    "    #print(f\"kolonne er {kolonnne}, starts at pos {start_pos}, ends at {end_pos}\")\n",
    "    df_rec_type_1[kolonnne] = df_rec_type_1[0].apply(lambda x: x[start_pos:end_pos])\n",
    "\n",
    "df_pliktige_pos = df_rec_type_1[['REGDATO','SAKSNR','RECTY','BPFNR','FMND','FAAR','NR','VEDTDATO','ANTBARNH','INNTYP1','INNTYP2','INNTYP3',\n",
    "                    'INNTYP4','INNTYP5','KONTST','INNTBEL1','INNTBEL2','INNTBEL3','INNTBEL4','INNTBEL5','KONTSBEL',\n",
    "                    'BTILRED','BARNETILBEL','BTILFORS','BIDREVNE','BOFORH']]   \n",
    "\n",
    "df_pliktige_pos = df_pliktige_pos.replace(r'^\\s*$', None, regex=True)\n",
    "\n",
    "user = oracle_secrets['user'] + '[DVH_FAM_BB]'\n",
    "dsn_tns = oracledb.makedsn(oracle_secrets['host'], 1521, service_name = oracle_secrets['service'])\n",
    "\n",
    "with oracledb.connect(user=user, password = oracle_secrets['password'], dsn=dsn_tns) as conn:\n",
    "    with conn.cursor() as cursor:\n",
    "        rows = [tuple(x) for x in df_pliktige_pos.values]\n",
    "        cursor.executemany('''INSERT INTO FAM_BB_PLIKTIGE_BERM (REGDATO,SAKSNR,NR,RECTY,BPFNR,FMND,FAAR,VEDTDATO,ANTBARNH,INNTYP1,INNTYP2,INNTYP3,INNTYP4,INNTYP5,KONTST\n",
    "                                        ,INNTBEL1,INNTBEL2,INNTBEL3,INNTBEL4,INNTBEL5,KONTSBEL,BTILRED,BARNETILBEL,BTILFORS\n",
    "                                        ,BIDREVNE,BOFORH) \n",
    "                                VALUES (:1,:2,:3,:4,:5,:6,:7,:8,:9,:10,:11,:12,:13,:14,:15,:16,:17,:18,:19,:20,:21,:22,:23,:24,:25,:26)''',rows)\n",
    "        conn.commit()"
   ]
  }
 ],
 "metadata": {
  "language_info": {
   "name": "python"
  }
 },
 "nbformat": 4,
 "nbformat_minor": 2
}
