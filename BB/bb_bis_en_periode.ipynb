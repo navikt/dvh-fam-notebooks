{
 "cells": [
  {
   "cell_type": "code",
   "execution_count": 1,
   "id": "21f46b2a-aa8d-4a8e-876c-20d76d757a1b",
   "metadata": {},
   "outputs": [],
   "source": [
    "import oracledb, os, json\n",
    "from google.cloud import secretmanager\n",
    "import pandas as pd\n",
    "import numpy as np\n",
    "import paramiko\n",
    "import datetime\n",
    "from io import StringIO\n",
    "\n",
    "import warnings\n",
    "warnings.filterwarnings('ignore')"
   ]
  },
  {
   "cell_type": "code",
   "execution_count": 2,
   "id": "2961b05e-b096-4c73-abbf-a472962a7404",
   "metadata": {},
   "outputs": [],
   "source": [
    "def set_secrets_as_envs():\n",
    "  secrets = secretmanager.SecretManagerServiceClient()\n",
    "  resource_name = f\"{os.environ['KNADA_TEAM_SECRET']}/versions/latest\"\n",
    "  secret = secrets.access_secret_version(name=resource_name)\n",
    "  secret_str = secret.payload.data.decode('UTF-8')\n",
    "  secrets = json.loads(secret_str)\n",
    "  os.environ.update(secrets)"
   ]
  },
  {
   "cell_type": "code",
   "execution_count": 3,
   "id": "3a338933-513f-4abb-a331-9d324643fea9",
   "metadata": {},
   "outputs": [],
   "source": [
    "def oracle_secrets():\n",
    "  set_secrets_as_envs()\n",
    "  return dict(\n",
    "    user=os.getenv('DB_USER'),\n",
    "    password=os.getenv('DB_PASSWORD'),\n",
    "    host = os.getenv('DBT_ORCL_HOST'),\n",
    "    service = os.getenv('DBT_ORCL_SERVICE'),\n",
    "    sftpkey = os.getenv('SFTPKEY'),\n",
    "    encoding=\"UTF-8\",\n",
    "    nencoding=\"UTF-8\"\n",
    "  )\n",
    "\n",
    "oracle_secrets = oracle_secrets()"
   ]
  },
  {
   "cell_type": "code",
   "execution_count": null,
   "id": "75db81b7-33c5-4fd6-a8bf-e58056e897ac",
   "metadata": {},
   "outputs": [],
   "source": [
    "def do_etl(periode):\n",
    "    keyfile = StringIO(oracle_secrets['sftpkey'])\n",
    "    mykey = paramiko.RSAKey.from_private_key(keyfile, password=np.nan)\n",
    "\n",
    "    host,port = \"a01drvl099.adeo.no\",22\n",
    "    transport = paramiko.Transport((host,port))\n",
    "\n",
    "    username= \"srv-dv-familie-airflow-sas\"\n",
    "    transport.connect(username=username,pkey=mykey)\n",
    "\n",
    "    with paramiko.SFTPClient.from_transport(transport) as sftp:\n",
    "        local_dir = 'data'\n",
    "        if not os.path.exists(local_dir):\n",
    "            os.makedirs(local_dir)\n",
    "        sftp.get(f'./inbound/kildefiler/bidrag/BIDRAG_STONAD_M{periode}', f'data/BIDRAG_STONAD_M{periode}')\n",
    "\n",
    "    if sftp: sftp.close()\n",
    "    if transport: transport.close()"
   ]
  },
  {
   "cell_type": "code",
   "execution_count": 21,
   "id": "61b76804-18db-4f93-8cc6-18e0116fbd7d",
   "metadata": {},
   "outputs": [],
   "source": [
    "def get_periode():\n",
    "    today = datetime.date.today() # dato for idag 2022-04-19\n",
    "    first = today.replace(day=1) # dato for første dag i måneden 2022-04-01\n",
    "    lastMonth = first - datetime.timedelta(days=1) # dato for siste dag i tidligere måneden\n",
    "\n",
    "    return lastMonth.strftime(\"%Y%m\") # henter bare aar og maaned"
   ]
  },
  {
   "cell_type": "code",
   "execution_count": 22,
   "id": "3aa4b23d-2062-4364-9c62-ac539707057b",
   "metadata": {},
   "outputs": [],
   "source": [
    "periode = get_periode()\n",
    "\n",
    "do_etl(periode)"
   ]
  },
  {
   "cell_type": "code",
   "execution_count": null,
   "id": "52b43128-1147-4c9e-a674-6430f22059d8",
   "metadata": {
    "scrolled": true
   },
   "outputs": [],
   "source": [
    "%%bash\n",
    "\n",
    "per=$(python -c 'import datetime; print((datetime.date.today().replace(day=1)-datetime.timedelta(days=1)).strftime(\"%Y%m\"))')\n",
    "\n",
    "cat data/BIDRAG_STONAD_M$per | tr -d '\\000' > data/BIDRAG_STONAD_M$per.txt"
   ]
  },
  {
   "cell_type": "code",
   "execution_count": 23,
   "id": "710b5c5c-e490-4956-985f-bf05718059f0",
   "metadata": {},
   "outputs": [],
   "source": [
    "barn_df = pd.read_excel('posisjoner/barn_stonad_pos.xlsx',header=0 )\n",
    "barn_df.rename(columns={\"Variabel-navn\": \"feltnavn\", \"Start-pos. i Bidrag-fila\": \"start_pos\", \"Antall posi-sjoner\": \"antall_pos\"}, inplace = True)\n",
    "\n",
    "mottaker_df = pd.read_excel('posisjoner/mottaker_stonad_pos.xlsx',header=0 )\n",
    "mottaker_df.rename(columns={\"Feltnavn\": \"feltnavn\", \"Start-pos. i Bidrag-fila\": \"start_pos\", \"Antall posi-sjoner\": \"antall_pos\"}, inplace = True)\n",
    "\n",
    "pliktig_df = pd.read_excel('posisjoner/pliktig_stonad_pos.xlsx',header=0 )\n",
    "pliktig_df.rename(columns={\"Feltnavn\": \"feltnavn\", \"Start-pos. i Bidrag-fila\": \"start_pos\", \"Antall posi-sjoner\": \"antall_pos\"}, inplace = True)"
   ]
  },
  {
   "cell_type": "code",
   "execution_count": null,
   "id": "77f50633-8429-4e32-b029-eb7f53e1f811",
   "metadata": {},
   "outputs": [],
   "source": [
    "def do_tl():\n",
    "\n",
    "    user = oracle_secrets['user'] + '[DVH_FAM_BB]'\n",
    "    dsn_tns = oracledb.makedsn(oracle_secrets['host'], 1521, service_name = oracle_secrets['service'])\n",
    "\n",
    "    df_stonad = pd.read_csv(f\"data/BIDRAG_STONAD_M{periode}.txt\", skip_blank_lines=True, sep='\\0', header=None)\n",
    "    \n",
    "    df_stonad['REC_TYPE'] = df_stonad[0].apply(lambda x: x[13:15])\n",
    "    filt = (df_stonad['REC_TYPE'] == '03')\n",
    "    df_rec_type_3 = df_stonad.loc[filt].copy()\n",
    "\n",
    "    for index, row in barn_df.iterrows():\n",
    "        start_pos = row['start_pos'] - 1\n",
    "        end_pos = start_pos + row['antall_pos']\n",
    "        #print(row['feltnavn'],start_pos, end_pos)\n",
    "        df_rec_type_3[row['feltnavn']] = df_rec_type_3[0].apply(lambda x: x[start_pos:end_pos])\n",
    "        \n",
    "    # henter kun kolonnene vi er intersert i ved bruk av kolonne \"Feltnavn\" fra mottaker_df som inneholder navn på alle kolonner\n",
    "    df_barn = df_rec_type_3[barn_df['feltnavn']]\n",
    "    df_barn = df_barn.replace(r'^\\s*$', None, regex=True)\n",
    "\n",
    "    filt = (((df_barn['FORSKUDD'].fillna(0).astype(int) > 0)|(df_barn['BIDRAG_G'].fillna(0).astype(int) > 0) ))\n",
    "    df_barn = df_barn.loc[filt].copy()\n",
    "\n",
    "    df_stonad['REC_TYPE'] = df_stonad[0].apply(lambda x: x[13:15])\n",
    "    filt = (df_stonad['REC_TYPE'] == '02')\n",
    "    df_rec_type_2 = df_stonad.loc[filt].copy()\n",
    "\n",
    "    for index, row in mottaker_df.iterrows():\n",
    "        start_pos = row['start_pos'] - 1\n",
    "        end_pos = start_pos + row['antall_pos']\n",
    "        df_rec_type_2[row['feltnavn']] = df_rec_type_2[0].apply(lambda x: x[start_pos:end_pos])\n",
    "\n",
    "    # henter kun kolonnene vi er intersert i ved bruk av kolonne \"Feltnavn\" fra mottaker_df som inneholder navn på alle kolonner\n",
    "    df_mottaker = df_rec_type_2[mottaker_df['feltnavn']]\n",
    "    df_mottaker = df_mottaker.replace(r'^\\s*$', None, regex=True)\n",
    "\n",
    "    # Filter df_mottaker based on SAKSNR in df_barn\n",
    "    df_mottaker = df_mottaker[df_mottaker['SAKSNR'].isin(df_barn['SAKSNR'])]\n",
    "\n",
    "    df_stonad['REC_TYPE'] = df_stonad[0].apply(lambda x: x[13:15])\n",
    "    filt = (df_stonad['REC_TYPE'] == '01')\n",
    "    df_rec_type_1 = df_stonad.loc[filt].copy()\n",
    "\n",
    "    for index, row in pliktig_df.iterrows():\n",
    "        start_pos = row['start_pos'] - 1\n",
    "        end_pos = start_pos + row['antall_pos']\n",
    "        df_rec_type_1[row['feltnavn']] = df_rec_type_1[0].apply(lambda x: x[start_pos:end_pos])\n",
    "\n",
    "    # henter kun kolonnene vi er intersert i ved bruk av kolonne \"Feltnavn\" fra mottaker_df som inneholder navn på alle kolonner\n",
    "    df_pliktig = df_rec_type_1[pliktig_df['feltnavn']]\n",
    "    df_pliktig = df_pliktig.replace(r'^\\s*$', None, regex=True)\n",
    "\n",
    "    # Filter df_mottaker based on SAKSNR in df_barn\n",
    "    df_pliktig = df_pliktig[df_pliktig['SAKSNR'].isin(df_barn['SAKSNR'])]\n",
    "\n",
    "    with oracledb.connect(user=user, password = oracle_secrets['password'], dsn=dsn_tns) as conn:\n",
    "        with conn.cursor() as cursor:\n",
    "            rows = [tuple(x) for x in df_barn.values]\n",
    "            cursor.executemany('''INSERT INTO STG_FAM_BB_BARN_BIS(PERIODE,SAKSNR,REC_TYPE,OBJNR,TKNR_BOST,FNR,ALDER,KJONN,INSTITUSJON,BIDRAG_G,FORSK,SBBEL,SUM_P_KRAV,F_FORSKUDD,ETTERG_BEL\n",
    "                                ,ANT_ETTERG,MOID,MOTYPE,SAKSTYP,SAKSDATO,BOLAND,BPFNR,BMFNR,FORSKUDD,HGBOST,UGBOST,RESKODE,SBBELHI,BIDRAG\n",
    "                                ,LOPSAK,UTLVAL,VEDTDATOBB,VIRKDATOBB,VEDTDATOFO,VIRKDATOFO) \n",
    "                                    VALUES (:1,:2,:3,:4,:5,:6,:7,:8,:9,:10,:11,:12,:13,:14,:15,:16,:17,:18,:19,:20,:21,:22,:23,:24,\n",
    "                                    :25,:26,:27,:28,:29,:30,:31,:32,:33,:34,:35)''',rows)\n",
    "        with conn.cursor() as cursor:\n",
    "            rows = [tuple(x) for x in df_mottaker.values]\n",
    "            cursor.executemany('''INSERT INTO STG_FAM_BB_MOTTAKER_BIS(PERIODE,SAKSNR,REC_TYPE,TKNR_BOST,FNR,ALDER,KJONN,BOLAND,STONAD_STAT\n",
    "                                ,SAKSTYP,EKBIDR_G,OBJNR,ANTBARNB,EKBIDR ,BIDRSUM,LOPSAK,UTLVAL ,LAND) \n",
    "                                    VALUES (:1,:2,:3,:4,:5,:6,:7,:8,:9,:10,:11,:12,:13,:14,:15,:16,:17,:18)''',rows)\n",
    "        with conn.cursor() as cursor:   \n",
    "            rows = [tuple(x) for x in df_pliktig.values]\n",
    "            cursor.executemany('''INSERT INTO STG_FAM_BB_PLIKTIGE_BIS(PERIODE,SAKSNR,REC_TYPE,TKNR_BOST,FNR,ALDER,KJONN,BOLAND,INNB_TOTALT,INNB_UFORDELT,INNB_11_21,INNB_32\n",
    "                                ,INNB_42,INNB_31_41,INNB_12_22,F_PAALOP,SUM_PAALOP,SUM_GJELD,GJELD_11_21,GJELD_32\n",
    "                                ,GJELD_42,GJELD_31_41,GJELD_12_22,LOPSAK,SAKSTYP,OBJNR,ANTBARNB,BIDRSUM,UTLVAL,LAND) \n",
    "                                    VALUES (:1,:2,:3,:4,:5,:6,:7,:8,:9,:10,:11,:12,:13,:14,:15,:16,:17,:18,:19,:20,:21,:22,:23,:24,\n",
    "                                    :25,:26,:27,:28,:29,:30)''',rows)\n",
    "            conn.commit()\n"
   ]
  },
  {
   "cell_type": "code",
   "execution_count": 28,
   "id": "23338866-9826-4f7c-bdcc-b6171b139a85",
   "metadata": {},
   "outputs": [],
   "source": [
    "do_tl()"
   ]
  }
 ],
 "metadata": {
  "kernelspec": {
   "display_name": "Python 3 (ipykernel)",
   "language": "python",
   "name": "python3"
  },
  "language_info": {
   "codemirror_mode": {
    "name": "ipython",
    "version": 3
   },
   "file_extension": ".py",
   "mimetype": "text/x-python",
   "name": "python",
   "nbconvert_exporter": "python",
   "pygments_lexer": "ipython3",
   "version": "3.11.10"
  }
 },
 "nbformat": 4,
 "nbformat_minor": 5
}
