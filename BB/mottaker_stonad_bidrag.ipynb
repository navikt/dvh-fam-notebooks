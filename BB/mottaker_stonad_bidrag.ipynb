{
 "cells": [
  {
   "cell_type": "code",
   "execution_count": null,
   "metadata": {},
   "outputs": [],
   "source": [
    "import oracledb, os, json\n",
    "from google.cloud import secretmanager\n",
    "import pandas as pd\n",
    "import numpy as np\n",
    "import paramiko\n",
    "from io import StringIO\n",
    "from datetime import date\n",
    "from datetime import timedelta\n",
    "import datetime"
   ]
  },
  {
   "cell_type": "code",
   "execution_count": null,
   "metadata": {},
   "outputs": [],
   "source": [
    "def get_periode():\n",
    "    \"\"\"\n",
    "    henter periode for the tidligere måneden eksample--> i dag er 19.04.2022, metoden vil kalkulerer periode aarMaaned eks) '202203'\n",
    "    :param periode:\n",
    "    :return: periode\n",
    "    \"\"\"\n",
    "    today = datetime.date.today() # dato for idag 2022-04-19\n",
    "    first = today.replace(day=1) # dato for første dag i måneden 2022-04-01\n",
    "    lastMonth = first - datetime.timedelta(days=1) # dato for siste dag i tidligere måneden\n",
    "\n",
    "    return lastMonth.strftime(\"%Y%m\") # henter bare aar og maaned\n",
    "\n",
    "periode = get_periode()"
   ]
  },
  {
   "cell_type": "code",
   "execution_count": null,
   "metadata": {},
   "outputs": [],
   "source": [
    "def set_secrets_as_envs():\n",
    "  secrets = secretmanager.SecretManagerServiceClient()\n",
    "  resource_name = f\"{os.environ['KNADA_TEAM_SECRET']}/versions/latest\"\n",
    "  secret = secrets.access_secret_version(name=resource_name)\n",
    "  secret_str = secret.payload.data.decode('UTF-8')\n",
    "  secrets = json.loads(secret_str)\n",
    "  os.environ.update(secrets)"
   ]
  },
  {
   "cell_type": "code",
   "execution_count": null,
   "metadata": {},
   "outputs": [],
   "source": [
    "def oracle_secrets():\n",
    "  set_secrets_as_envs()\n",
    "  return dict(\n",
    "    user=os.getenv('DB_USER'),\n",
    "    password=os.getenv('DB_PASSWORD'),\n",
    "    host = os.getenv('DBT_ORCL_HOST'),\n",
    "    service = os.getenv('DBT_ORCL_SERVICE'),\n",
    "    sftpkey = os.getenv('SFTPKEY'),\n",
    "    encoding=\"UTF-8\",\n",
    "    nencoding=\"UTF-8\"\n",
    "  )\n",
    "\n",
    "oracle_secrets = oracle_secrets()"
   ]
  },
  {
   "cell_type": "code",
   "execution_count": null,
   "metadata": {},
   "outputs": [],
   "source": [
    "keyfile = StringIO(oracle_secrets['sftpkey'])\n",
    "mykey = paramiko.RSAKey.from_private_key(keyfile, password=np.nan)\n",
    "\n",
    "# Open a transport\n",
    "host,port = \"a01drvl099.adeo.no\",22\n",
    "transport = paramiko.Transport((host,port))\n",
    "\n",
    "# Auth    \n",
    "username= \"srv-dv-familie-airflow-sas\"\n",
    "transport.connect(username=username,pkey=mykey)\n",
    "\n",
    "with paramiko.SFTPClient.from_transport(transport) as sftp:\n",
    "    sftp.get(f'./inbound/kildefiler/bidrag/BIDRAG_STONAD_M{periode}', f'../data/BIDRAG_STONAD_M{periode}')\n",
    "\n",
    "# Close\n",
    "if sftp: sftp.close()\n",
    "if transport: transport.close()"
   ]
  },
  {
   "cell_type": "code",
   "execution_count": null,
   "metadata": {},
   "outputs": [],
   "source": [
    "%%bash\n",
    "\n",
    "cat ../data/BIDRAG_STONAD_M$periode | tr -d '\\000' > ../data/BIDRAG_STONAD_M$periode.txt"
   ]
  },
  {
   "cell_type": "code",
   "execution_count": null,
   "metadata": {},
   "outputs": [],
   "source": [
    "df = pd.read_csv(f\"../data/BIDRAG_STONAD_M2024{periode}.txt\", skip_blank_lines=True, sep='\\0', header=None)\n",
    "df['RECTY'] = df[0].apply(lambda x: x[13:15])\n",
    "\n",
    "filt = (df['RECTY'] == '02')\n",
    "df_RECTY_2 = df.loc[filt].copy()\n",
    "\n",
    "kolonne_navn = [\"@1   PERIODE    6.\",\"@7 SAKSNR     $7.\",  \"@14 RECTY     2.\", \"@7 NR         $2.\",  \"@16 TKNR     $4.\",  \"@16  FYLKE   $2. \",             \n",
    "\"@20 BMFDAG    $2.\",  \"@22 BMFMND   $2.\",  \"@24  BMFAAR  $2. \", \"@20 BMFNR     $11.\", \"@31 ALDER_BM 2.\",  \" @33  KJONN   $1.\", \"@34 BOLAND  $3.\", \"@37 STONSTAT  7.\",  \"@44 SAKSTYP   $1.\",  \"@45  EKBIDRG 7.  \", \"@52 OBJNR    2.\",   \n",
    "\"@54 ANTBARNB  3.\",  \"@57 EKBIDR     7.\",  \" @64  BIDRSUM 7. \", \" @71 LOPSAK   $1.\"  ,\"@72 UTLVAL    $3.\"]\n",
    "\n",
    "for i in kolonne_navn:\n",
    "    m = i.split()\n",
    "    kolonnne = m[1]\n",
    "    start_pos = int(\"\".join([str(s) for s in m[0] if s.isdigit()])) - 1\n",
    "    end_pos = int(\"\".join([str(s) for s in m[2] if s.isdigit()])) + start_pos\n",
    "    df_RECTY_2[kolonnne] = df_RECTY_2[0].apply(lambda x: x[start_pos:end_pos])\n",
    "\n",
    "df_mottaker_pos = df_RECTY_2[['PERIODE','RECTY','SAKSNR','NR','TKNR','FYLKE','BMFDAG','BMFMND','BMFAAR','BMFNR','ALDER_BM','KJONN',\n",
    "'BOLAND', 'STONSTAT','SAKSTYP','EKBIDRG','OBJNR','EKBIDR','BIDRSUM','LOPSAK','UTLVAL']]\n",
    "df_mottaker_pos = df_mottaker_pos.replace(r'^\\s*$', None, regex=True)\n",
    "\n",
    "# filtrere vekk rader der ALDER_BM = 10 (det er de som har ALDER_BM >= 100)\n",
    "filt = ((df_mottaker_pos['ALDER_BM'] != '10') & (df_mottaker_pos['ALDER_BM'] != '11'))\n",
    "df_mottaker_pos = df_mottaker_pos.loc[filt]\n",
    "\n",
    "user = oracle_secrets['user'] + '[DVH_FAM_BB]'\n",
    "dsn_tns = oracledb.makedsn(oracle_secrets['host'], 1521, service_name = oracle_secrets['service'])\n",
    "\n",
    "with oracledb.connect(user=user, password = oracle_secrets['password'], dsn=dsn_tns) as conn:\n",
    "    with conn.cursor() as cursor:\n",
    "        rows = [tuple(x) for x in df_mottaker_pos.values]\n",
    "        cursor.executemany('''INSERT INTO FAM_BB_mottaker_BIS (PERIODE,RECTY,SAKSNR,NR,TKNR,FYLKE,BMFDAG,BMFMND,BMFAAR,BMFNR,ALDER_BM,KJONN,\n",
    "                                BOLAND, STONSTAT,SAKSTYP,EKBIDRG,OBJNR,EKBIDR,BIDRSUM,LOPSAK,UTLVAL) \n",
    "                                VALUES (:1,:2,:3,:4,:5,:6,:7,:8,:9,:10,:11,:12,:13,:14,:15,:16,:17,:18,:19,:20,:21)''',rows)\n",
    "        conn.commit()\n"
   ]
  }
 ],
 "metadata": {
  "language_info": {
   "name": "python"
  }
 },
 "nbformat": 4,
 "nbformat_minor": 2
}
