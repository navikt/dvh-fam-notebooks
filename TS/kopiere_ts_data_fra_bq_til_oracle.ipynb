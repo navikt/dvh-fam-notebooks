{
 "cells": [
  {
   "cell_type": "code",
   "execution_count": null,
   "metadata": {},
   "outputs": [],
   "source": [
    "import oracledb\n",
    "from google.cloud.bigquery import Client\n",
    "import os, json\n",
    "from google.cloud import secretmanager\n",
    "import pandas as pd\n",
    "\n",
    "import warnings\n",
    "warnings.filterwarnings('ignore')"
   ]
  },
  {
   "cell_type": "code",
   "execution_count": null,
   "metadata": {},
   "outputs": [],
   "source": [
    "def set_secrets_as_envs():\n",
    "  secrets = secretmanager.SecretManagerServiceClient()\n",
    "  resource_name = f\"{os.environ['KNADA_TEAM_SECRET']}/versions/latest\"\n",
    "  secret = secrets.access_secret_version(name=resource_name)\n",
    "  secret_str = secret.payload.data.decode('UTF-8')\n",
    "  secrets = json.loads(secret_str)\n",
    "  os.environ.update(secrets)"
   ]
  },
  {
   "cell_type": "code",
   "execution_count": null,
   "metadata": {},
   "outputs": [],
   "source": [
    "def oracle_secrets():\n",
    "  set_secrets_as_envs()\n",
    "  return dict(\n",
    "    user=os.getenv('DBT_ORCL_USER'),\n",
    "    password=os.getenv('DBT_ORCL_PASS'),\n",
    "    host = os.getenv('DBT_ORCL_HOST'),\n",
    "    service = os.getenv('DBT_ORCL_SERVICE'),\n",
    "    project_id = os.getenv('BS_PROJECT_ID'), #byttet verdi\n",
    "    table_uri = os.getenv('TS_TABLE_URI'),  \n",
    "    encoding=\"UTF-8\",\n",
    "    nencoding=\"UTF-8\"\n",
    "  )\n",
    "\n",
    "oracle_secrets = oracle_secrets()"
   ]
  },
  {
   "cell_type": "code",
   "execution_count": null,
   "metadata": {},
   "outputs": [],
   "source": [
    "def get_data_from_table(max_opprettet_tid):\n",
    "    PROJECT_ID = oracle_secrets['project_id'] \n",
    "    TABLE_URI = oracle_secrets['table_uri'] \n",
    "\n",
    "    client = Client(project=PROJECT_ID)\n",
    "    job = None\n",
    "    if max_opprettet_tid is None:\n",
    "        job = client.query(f\"SELECT * FROM `{TABLE_URI}`\")\n",
    "    else:\n",
    "        #max_opprettet_dato = pd.to_datetime(max_opprettet_dato, utc=True)\n",
    "        job = client.query(f\"SELECT * FROM `{TABLE_URI}` WHERE opprettet_tid > '{max_opprettet_tid}'\")\n",
    "        \n",
    "    df = job.to_dataframe()\n",
    "    \n",
    "    return df"
   ]
  },
  {
   "cell_type": "code",
   "execution_count": null,
   "metadata": {},
   "outputs": [],
   "source": [
    "def convert_to_json(df):\n",
    "    # Parse the JSON string\n",
    "    json_str = df.to_json(orient='records')\n",
    "    #json_objs\n",
    "    json_objs = json.loads(json_str)\n",
    "\n",
    "    #list contains tuples of all rows that will be inserted into the table\n",
    "    extracted_values = []\n",
    "\n",
    "    for json_obj in json_objs:\n",
    "        # Extract the value\n",
    "        id = json_obj['id']\n",
    "        json_str = json_obj\n",
    "        ekstern_behandling_id = json_obj['ekstern_behandling_id']\n",
    "        opprettet_tid = str(pd.to_datetime(json_obj['opprettet_tid'], unit='ms'))\n",
    "        # Append the extracted value to the list\n",
    "        extracted_values.append((id, json_str, ekstern_behandling_id,opprettet_tid))\n",
    "\n",
    "    return extracted_values"
   ]
  },
  {
   "cell_type": "code",
   "execution_count": null,
   "metadata": {},
   "outputs": [],
   "source": [
    "def send_data():\n",
    "    user = oracle_secrets['user'] + '[dvh_fam_ef]'\n",
    "    dsn_tns = oracledb.makedsn(oracle_secrets['host'], 1521, service_name = oracle_secrets['service'])\n",
    "    \n",
    "    with oracledb.connect(user=user, password = oracle_secrets['password'], dsn=dsn_tns) as conn:\n",
    "        with conn.cursor() as cursor:\n",
    "            sql = \"\"\"select max(opprettet_tid) from fam_ts_meta_data\"\"\"\n",
    "            cursor.execute(sql)\n",
    "            result = cursor.fetchall()\n",
    "            max_opprettet_tid = result[0][0]\n",
    "\n",
    "            df = get_data_from_table(max_opprettet_tid)\n",
    "            \n",
    "            extracted_values = convert_to_json(df)\n",
    "            \n",
    "            # Insert JSON strings and extracted values into the table\n",
    "            for id, json_str, ekstern_behandling_id, opprettet_tid in extracted_values:\n",
    "                melding = json.dumps(json_str)\n",
    "                cursor.execute('''\n",
    "                    INSERT INTO fam_ts_meta_data (id, melding, ekstern_behandling_id, opprettet_tid) \n",
    "                    VALUES (:id, :melding, :ekstern_behandling_id, to_timestamp(:opprettet_tid , 'YYYY-MM-DD HH24:MI:SS.FF'))\n",
    "                ''', (id, melding, ekstern_behandling_id,opprettet_tid))\n",
    "            \n",
    "            # Commit and close connection\n",
    "            conn.commit()\n",
    "            #conn.close()"
   ]
  },
  {
   "cell_type": "code",
   "execution_count": null,
   "metadata": {},
   "outputs": [],
   "source": [
    "send_data()"
   ]
  }
 ],
 "metadata": {
  "language_info": {
   "name": "python"
  }
 },
 "nbformat": 4,
 "nbformat_minor": 2
}
