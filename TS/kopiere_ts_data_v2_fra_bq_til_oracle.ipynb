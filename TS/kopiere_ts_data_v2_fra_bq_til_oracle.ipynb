{
 "cells": [
  {
   "cell_type": "code",
   "execution_count": null,
   "id": "8700c666-da07-40ad-8b4a-7ac73f1522ed",
   "metadata": {},
   "outputs": [],
   "source": [
    "import oracledb\n",
    "from google.cloud.bigquery import Client\n",
    "import os, json\n",
    "from google.cloud import secretmanager\n",
    "import pandas as pd\n",
    "\n",
    "import warnings\n",
    "warnings.filterwarnings('ignore')"
   ]
  },
  {
   "cell_type": "code",
   "execution_count": null,
   "id": "a2ab6d47-a598-4c3a-afaf-7901fbeff1b7",
   "metadata": {},
   "outputs": [],
   "source": [
    "def set_secrets_as_envs():\n",
    "  secrets = secretmanager.SecretManagerServiceClient()\n",
    "  resource_name = f\"{os.environ['KNADA_TEAM_SECRET']}/versions/latest\"\n",
    "  secret = secrets.access_secret_version(name=resource_name)\n",
    "  secret_str = secret.payload.data.decode('UTF-8')\n",
    "  secrets = json.loads(secret_str)\n",
    "  os.environ.update(secrets)"
   ]
  },
  {
   "cell_type": "code",
   "execution_count": null,
   "id": "1513de0d-00d9-4f69-b0cd-51e24936f836",
   "metadata": {},
   "outputs": [],
   "source": [
    "def oracle_secrets():\n",
    "  set_secrets_as_envs()\n",
    "  return dict(\n",
    "    user=os.getenv('DBT_ORCL_USER'),\n",
    "    password=os.getenv('DBT_ORCL_PASS'),\n",
    "    host = os.getenv('DBT_ORCL_HOST'),\n",
    "    service = os.getenv('DBT_ORCL_SERVICE'),\n",
    "    project_id = os.getenv('BS_PROJECT_ID'), #byttet verdi\n",
    "    table_uri = os.getenv('TS_v2_TABLE_URI'),  \n",
    "    encoding=\"UTF-8\",\n",
    "    nencoding=\"UTF-8\"\n",
    "  )\n",
    "\n",
    "oracle_secrets = oracle_secrets()"
   ]
  },
  {
   "cell_type": "code",
   "execution_count": null,
   "id": "9e539f82-c866-4ba1-844b-bae2c8e3b894",
   "metadata": {},
   "outputs": [],
   "source": [
    "def get_data_from_table(max_endret_tid):\n",
    "    PROJECT_ID = oracle_secrets['project_id'] \n",
    "    TABLE_URI = oracle_secrets['table_uri'] \n",
    "\n",
    "    client = Client(project=PROJECT_ID)\n",
    "    job = None\n",
    "    if max_endret_tid is None:\n",
    "        job = client.query(f\"SELECT * FROM `{TABLE_URI}`\")\n",
    "    else:\n",
    "        #max_opprettet_dato = pd.to_datetime(max_opprettet_dato, utc=True)\n",
    "        job = client.query(f\"SELECT * FROM `{TABLE_URI}` WHERE endret_tid > '{max_endret_tid}'\")\n",
    "        \n",
    "    df = job.to_dataframe()\n",
    "    \n",
    "    return df"
   ]
  },
  {
   "cell_type": "code",
   "execution_count": null,
   "id": "5002006d-fff1-4ae6-b7ff-7d318f7acbaf",
   "metadata": {},
   "outputs": [],
   "source": [
    "def convert_to_json(df):\n",
    "    # Parse the JSON string\n",
    "    json_str = df.to_json(orient='records')\n",
    "    #json_objs\n",
    "    json_objs = json.loads(json_str)\n",
    "\n",
    "    #list contains tuples of all rows that will be inserted into the table\n",
    "    extracted_values = []\n",
    "\n",
    "    for json_obj in json_objs:\n",
    "        # Extract the value\n",
    "        json_str = json_obj\n",
    "        ekstern_behandling_id = json_obj['ekstern_behandling_id']\n",
    "        opprettet_tid = str(pd.to_datetime(json_obj['opprettet_tid'], unit='ms'))\n",
    "        endret_tid = str(pd.to_datetime(json_obj['endret_tid'], unit='ms'))\n",
    "        \n",
    "        # Append the extracted value to the list\n",
    "        extracted_values.append((json_str, ekstern_behandling_id, opprettet_tid, endret_tid))\n",
    "\n",
    "    return extracted_values"
   ]
  },
  {
   "cell_type": "code",
   "execution_count": null,
   "id": "8c3ed19a-6a1a-4968-87da-670afa067a6d",
   "metadata": {},
   "outputs": [],
   "source": [
    "def send_data():\n",
    "    user = oracle_secrets['user'] + '[dvh_fam_ef]'\n",
    "    dsn_tns = oracledb.makedsn(oracle_secrets['host'], 1521, service_name = oracle_secrets['service'])\n",
    "    \n",
    "    with oracledb.connect(user=user, password = oracle_secrets['password'], dsn=dsn_tns) as conn:\n",
    "        with conn.cursor() as cursor:\n",
    "            sql = \"\"\"select max(endret_tid) from fam_ts_meta_data_v2\"\"\"\n",
    "            cursor.execute(sql)\n",
    "            result = cursor.fetchall()\n",
    "            max_endret_tid = result[0][0]\n",
    "\n",
    "            df = get_data_from_table(max_endret_tid)\n",
    "            \n",
    "            extracted_values = convert_to_json(df)\n",
    "            \n",
    "            # Insert JSON strings and extracted values into the table\n",
    "            for json_str, ekstern_behandling_id, opprettet_tid, endret_tid in extracted_values:\n",
    "                melding = json.dumps(json_str)\n",
    "                cursor.execute('''\n",
    "                    INSERT INTO fam_ts_meta_data_v2 (melding, ekstern_behandling_id, opprettet_tid, endret_tid) \n",
    "                    VALUES (:melding, :ekstern_behandling_id, to_timestamp(:opprettet_tid , 'YYYY-MM-DD HH24:MI:SS.FF'), to_timestamp(:endret_tid , 'YYYY-MM-DD HH24:MI:SS.FF'))\n",
    "                ''', (melding, ekstern_behandling_id,opprettet_tid,endret_tid))\n",
    "            \n",
    "            # Commit and close connection\n",
    "            conn.commit()\n",
    "            #conn.close()"
   ]
  },
  {
   "cell_type": "code",
   "execution_count": null,
   "id": "3bc92d20-e990-49e4-af85-159ff8ac90bf",
   "metadata": {},
   "outputs": [],
   "source": [
    "send_data()"
   ]
  },
  {
   "cell_type": "code",
   "execution_count": null,
   "id": "7ff771bc-9307-4642-936a-1b46b1bcaf2a",
   "metadata": {},
   "outputs": [],
   "source": []
  }
 ],
 "metadata": {
  "kernelspec": {
   "display_name": "Python 3 (ipykernel)",
   "language": "python",
   "name": "python3"
  },
  "language_info": {
   "codemirror_mode": {
    "name": "ipython",
    "version": 3
   },
   "file_extension": ".py",
   "mimetype": "text/x-python",
   "name": "python",
   "nbconvert_exporter": "python",
   "pygments_lexer": "ipython3",
   "version": "3.11.10"
  }
 },
 "nbformat": 4,
 "nbformat_minor": 5
}
