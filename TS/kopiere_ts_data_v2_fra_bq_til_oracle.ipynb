{
 "cells": [
  {
   "cell_type": "code",
   "execution_count": null,
   "metadata": {},
   "outputs": [],
   "source": [
    "import oracledb\n",
    "from google.cloud.bigquery import Client\n",
    "import os, json\n",
    "from google.cloud import secretmanager\n",
    "import pandas as pd\n",
    "\n",
    "import warnings\n",
    "warnings.filterwarnings('ignore')"
   ]
  },
  {
   "cell_type": "code",
   "execution_count": null,
   "metadata": {},
   "outputs": [],
   "source": [
    "def set_secrets_as_envs():\n",
    "  secrets = secretmanager.SecretManagerServiceClient()\n",
    "  resource_name = f\"{os.environ['KNADA_TEAM_SECRET']}/versions/latest\"\n",
    "  secret = secrets.access_secret_version(name=resource_name)\n",
    "  secret_str = secret.payload.data.decode('UTF-8')\n",
    "  secrets = json.loads(secret_str)\n",
    "  os.environ.update(secrets)"
   ]
  },
  {
   "cell_type": "code",
   "execution_count": null,
   "metadata": {},
   "outputs": [],
   "source": [
    "def oracle_secrets():\n",
    "  set_secrets_as_envs()\n",
    "  return dict(\n",
    "    user=os.getenv('DBT_ORCL_USER'),\n",
    "    password=os.getenv('DBT_ORCL_PASS'),\n",
    "    host = os.getenv('DBT_ORCL_HOST'),\n",
    "    service = os.getenv('DBT_ORCL_SERVICE'),\n",
    "    project_id = os.getenv('BS_PROJECT_ID'), #byttet verdi\n",
    "    table_uri = os.getenv('TS_v2_TABLE_URI'),  \n",
    "    encoding=\"UTF-8\",\n",
    "    nencoding=\"UTF-8\"\n",
    "  )\n",
    "\n",
    "oracle_secrets = oracle_secrets()"
   ]
  },
  {
   "cell_type": "code",
   "execution_count": null,
   "metadata": {},
   "outputs": [],
   "source": [
    "def get_data_from_table(max_endret_tid):\n",
    "    PROJECT_ID = oracle_secrets['project_id'] \n",
    "    TABLE_URI = oracle_secrets['table_uri'] \n",
    "\n",
    "    client = Client(project=PROJECT_ID)\n",
    "    job = None\n",
    "    if max_endret_tid is None:\n",
    "        job = client.query(f\"SELECT * FROM `{TABLE_URI}`\")\n",
    "    else:\n",
    "        #max_opprettet_dato = pd.to_datetime(max_opprettet_dato, utc=True)\n",
    "        job = client.query(f\"SELECT * FROM `{TABLE_URI}` WHERE endret_tid > '{max_endret_tid}'\")\n",
    "        \n",
    "    df = job.to_dataframe()\n",
    "    \n",
    "    return df"
   ]
  },
  {
   "cell_type": "code",
   "execution_count": null,
   "metadata": {},
   "outputs": [],
   "source": [
    "def convert_to_json(df):\n",
    "\n",
    "    for col in df.columns:\n",
    "        df[col] = df[col].apply(\n",
    "            lambda x: json.loads(x) \n",
    "                if isinstance(x, str) and x.strip().startswith(('{', '[')) \n",
    "                else x )\n",
    "\n",
    "    # Konverter DataFrame til en liste av JSON-objekter\n",
    "    json_objs = json.loads(df.to_json(orient='records'))\n",
    "\n",
    "    # Liste som inneholder tuples av alle rader som skal settes inn i tabellen\n",
    "    extracted_values = []\n",
    "\n",
    "    for json_obj in json_objs:\n",
    "        # Serialiser JSON-objektet på nytt\n",
    "        json_str = json.dumps(json_obj, ensure_ascii=False)\n",
    "        ekstern_behandling_id = json_obj.get('ekstern_behandling_id')\n",
    "        opprettet_tid = str(pd.to_datetime(json_obj.get('opprettet_tid'), unit='ms'))\n",
    "        endret_tid = str(pd.to_datetime(json_obj.get('endret_tid'), unit='ms'))\n",
    "\n",
    "        # Legg til i listen\n",
    "        extracted_values.append((json_str, ekstern_behandling_id, opprettet_tid, endret_tid))\n",
    "\n",
    "    return extracted_values\n"
   ]
  },
  {
   "cell_type": "code",
   "execution_count": null,
   "metadata": {},
   "outputs": [],
   "source": [
    "def send_data():\n",
    "    user = oracle_secrets['user'] + '[dvh_fam_ef]'\n",
    "    dsn_tns = oracledb.makedsn(oracle_secrets['host'], 1521, service_name = oracle_secrets['service'])\n",
    "    \n",
    "    with oracledb.connect(user=user, password = oracle_secrets['password'], dsn=dsn_tns) as conn:\n",
    "        with conn.cursor() as cursor:\n",
    "            sql = \"\"\"select max(endret_tid) from fam_ts_meta_data_v2\"\"\"\n",
    "            cursor.execute(sql)\n",
    "            result = cursor.fetchall()\n",
    "            max_endret_tid = result[0][0]\n",
    "\n",
    "            df = get_data_from_table(max_endret_tid)\n",
    "            \n",
    "            extracted_values = convert_to_json(df)\n",
    "            \n",
    "            # Insert JSON strings and extracted values into the table\n",
    "            for json_str, ekstern_behandling_id, opprettet_tid, endret_tid in extracted_values:\n",
    "                melding = json_str\n",
    "                cursor.execute('''\n",
    "                    INSERT INTO fam_ts_meta_data_v2 (melding, ekstern_behandling_id, opprettet_tid, endret_tid)\n",
    "                    VALUES (:melding, :ekstern_behandling_id, TO_TIMESTAMP(:opprettet_tid, 'YYYY-MM-DD HH24:MI:SS.FF'), TO_TIMESTAMP(:endret_tid, 'YYYY-MM-DD HH24:MI:SS.FF'))\n",
    "                ''', {\n",
    "                    'melding': melding,\n",
    "                    'ekstern_behandling_id': ekstern_behandling_id,\n",
    "                    'opprettet_tid': opprettet_tid,\n",
    "                    'endret_tid': endret_tid\n",
    "                })\n",
    "            \n",
    "            # Commit and close connection\n",
    "            conn.commit()\n",
    "            #conn.close()"
   ]
  },
  {
   "cell_type": "code",
   "execution_count": null,
   "metadata": {},
   "outputs": [],
   "source": [
    "send_data()"
   ]
  }
 ],
 "metadata": {
  "language_info": {
   "name": "python"
  }
 },
 "nbformat": 4,
 "nbformat_minor": 2
}
