{
 "cells": [
  {
   "cell_type": "code",
   "execution_count": 1,
   "id": "b80f8895-d634-4b0d-861e-6c06a091ce03",
   "metadata": {
    "tags": []
   },
   "outputs": [],
   "source": [
    "import oracledb\n",
    "from google.cloud.bigquery import Client\n",
    "import os, json\n",
    "from google.cloud import secretmanager"
   ]
  },
  {
   "cell_type": "code",
   "execution_count": null,
   "id": "8bd420c2-8dde-4701-852e-59e9c141ff4d",
   "metadata": {},
   "outputs": [],
   "source": [
    "def set_secrets_as_envs():\n",
    "  secrets = secretmanager.SecretManagerServiceClient()\n",
    "  resource_name = f\"{os.environ['KNADA_TEAM_SECRET']}/versions/latest\"\n",
    "  secret = secrets.access_secret_version(name=resource_name)\n",
    "  secret_str = secret.payload.data.decode('UTF-8')\n",
    "  secrets = json.loads(secret_str)\n",
    "  os.environ.update(secrets)"
   ]
  },
  {
   "cell_type": "code",
   "execution_count": null,
   "id": "3236d11c-e18e-408b-90c4-aeae658c6cc3",
   "metadata": {},
   "outputs": [],
   "source": [
    "def oracle_secrets():\n",
    "  set_secrets_as_envs()\n",
    "  return dict(\n",
    "    user=os.getenv('DB_USER'),\n",
    "    password=os.getenv('DB_PASSWORD'),\n",
    "    host = os.getenv('DBT_ORCL_HOST'),\n",
    "    service = os.getenv('DBT_ORCL_SERVICE'),\n",
    "    project_id = os.getenv('BS_PROJECT_ID'),\n",
    "    table_uri = os.getenv('BS_TABLE_URI'),  \n",
    "    encoding=\"UTF-8\",\n",
    "    nencoding=\"UTF-8\"\n",
    "  )\n",
    "\n",
    "oracle_secrets = oracle_secrets()"
   ]
  },
  {
   "cell_type": "code",
   "execution_count": null,
   "id": "95d4f1e2-495f-4393-baaf-0c90d68dff8e",
   "metadata": {},
   "outputs": [],
   "source": [
    "def get_data_from_table(max_opprettet_dato):\n",
    "    PROJECT_ID = oracle_secrets['project_id'] \n",
    "    TABLE_URI = oracle_secrets['table_uri'] \n",
    "\n",
    "    client = Client(project=PROJECT_ID)\n",
    "    job = client.query(f\"SELECT * FROM `{TABLE_URI}` WHERE OPPRETTET > {max_opprettet_dato}\")\n",
    "    df = job.to_dataframe()\n",
    "    \n",
    "    # some data cleaning\n",
    "    char_to_replace = {'≥' : '>=', '≤' : '<='}\n",
    "    for old, new in char_to_replace.items():\n",
    "        df['sats_beskrivelse'] = df['sats_beskrivelse'].str.replace(old, new)\n",
    "    \n",
    "    return df"
   ]
  },
  {
   "cell_type": "code",
   "execution_count": null,
   "id": "d2f0c542-46ed-4f24-9328-67f18c14fb1a",
   "metadata": {},
   "outputs": [],
   "source": [
    "def send_data():\n",
    "    user = oracle_secrets['user'] + '[DVH_FAM_HM]'\n",
    "    dsn_tns = oracledb.makedsn(oracle_secrets['host'], 1521, service_name = oracle_secrets['service'])\n",
    "    \n",
    "    with oracledb.connect(user=user, password = oracle_secrets['password'], dsn=dsn_tns) as conn:\n",
    "        with conn.cursor() as cursor:\n",
    "            sql = \"\"\"select max(OPPRETTET) as maximun from brillestonad\"\"\"\n",
    "            cursor.execute(sql)\n",
    "            result = cursor.fetchall()\n",
    "            max_opprettet_dato = result[0][0]\n",
    "\n",
    "            if max_opprettet_dato is None:\n",
    "                df = get_data_from_table(0)\n",
    "            else:\n",
    "                df = get_data_from_table(max_opprettet_dato)\n",
    "            \n",
    "            if len(df) > 0:\n",
    "                rows = [tuple(x) for x in df.values]\n",
    "                cursor.executemany('''INSERT INTO brillestonad (ID,FNR_BARN,FNR_INNSENDER,ORGNR,BESTILLINGSDATO,BRILLEPRIS,BESTILLINGSREFERANSE,\n",
    "                                        BEHANDLINGSRESULTAT,SATS,SATS_BELOP,SATS_BESKRIVELSE,BELOP,OPPRETTET,KILDE) \n",
    "                                         VALUES (:1,:2,:3,:4,:5,:6,:7,:8,:9,:10,:11,:12,:13,:14)''',rows)\n",
    "                conn.commit()"
   ]
  },
  {
   "cell_type": "code",
   "execution_count": null,
   "id": "cc7ec88a-3cfc-4f48-a632-ac0df37b2932",
   "metadata": {},
   "outputs": [],
   "source": [
    "send_data()"
   ]
  }
 ],
 "metadata": {
  "kernelspec": {
   "display_name": ".venv",
   "language": "python",
   "name": "python3"
  },
  "language_info": {
   "codemirror_mode": {
    "name": "ipython",
    "version": 3
   },
   "file_extension": ".py",
   "mimetype": "text/x-python",
   "name": "python",
   "nbconvert_exporter": "python",
   "pygments_lexer": "ipython3",
   "version": "3.9.6 (default, Oct 18 2022, 12:41:40) \n[Clang 14.0.0 (clang-1400.0.29.202)]"
  },
  "vscode": {
   "interpreter": {
    "hash": "c65020fb85124adb747dfe7ed392e92304a0a4f49fd205427ab06b430466cbb0"
   }
  }
 },
 "nbformat": 4,
 "nbformat_minor": 5
}
