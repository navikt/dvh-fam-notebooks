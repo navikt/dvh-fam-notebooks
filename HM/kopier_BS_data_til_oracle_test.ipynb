{
 "cells": [
  {
   "cell_type": "code",
   "execution_count": null,
   "id": "28537b85",
   "metadata": {
    "vscode": {
     "languageId": "plaintext"
    }
   },
   "outputs": [],
   "source": [
    "import oracledb\n",
    "from google.cloud.bigquery import Client\n",
    "import os, json\n",
    "from google.cloud import secretmanager"
   ]
  },
  {
   "cell_type": "code",
   "execution_count": null,
   "id": "fd4ea8b7",
   "metadata": {
    "vscode": {
     "languageId": "plaintext"
    }
   },
   "outputs": [],
   "source": [
    "def set_secrets_as_envs():\n",
    "  secrets = secretmanager.SecretManagerServiceClient()\n",
    "  resource_name = f\"{os.environ['KNADA_TEAM_SECRET']}/versions/latest\"\n",
    "  secret = secrets.access_secret_version(name=resource_name)\n",
    "  secret_str = secret.payload.data.decode('UTF-8')\n",
    "  secrets = json.loads(secret_str)\n",
    "  os.environ.update(secrets)"
   ]
  },
  {
   "cell_type": "code",
   "execution_count": null,
   "id": "4a9bd8d4",
   "metadata": {
    "vscode": {
     "languageId": "plaintext"
    }
   },
   "outputs": [],
   "source": [
    "def oracle_secrets():\n",
    "  set_secrets_as_envs()\n",
    "  return dict(\n",
    "    user=os.getenv('DB_USER'),\n",
    "    password=os.getenv('DB_PASSWORD'),\n",
    "    host = os.getenv('DBT_ORCL_HOST'),\n",
    "    service = os.getenv('DBT_ORCL_SERVICE'),\n",
    "    project_id = os.getenv('BS_PROJECT_ID'),\n",
    "    table_uri = os.getenv('BS_TABLE_URI'),  \n",
    "    encoding=\"UTF-8\",\n",
    "    nencoding=\"UTF-8\"\n",
    "  )\n",
    "\n",
    "oracle_secrets = oracle_secrets()"
   ]
  },
  {
   "cell_type": "code",
   "execution_count": null,
   "id": "3ecb8bf9",
   "metadata": {
    "vscode": {
     "languageId": "plaintext"
    }
   },
   "outputs": [],
   "source": [
    "def get_data_from_table(max_id):\n",
    "    PROJECT_ID = oracle_secrets['project_id'] \n",
    "    TABLE_URI = oracle_secrets['table_uri'] \n",
    "\n",
    "    client = Client(project=PROJECT_ID)\n",
    "    job = client.query(f\"SELECT * FROM `{TABLE_URI}` WHERE id > {max_id}\")\n",
    "    df = job.to_dataframe()\n",
    "    \n",
    "    # some data cleaning\n",
    "    char_to_replace = {'≥' : '>=', '≤' : '<='}\n",
    "    for old, new in char_to_replace.items():\n",
    "        df['sats_beskrivelse'] = df['sats_beskrivelse'].str.replace(old, new)\n",
    "    \n",
    "    return df"
   ]
  },
  {
   "cell_type": "code",
   "execution_count": null,
   "id": "3cfad302",
   "metadata": {
    "vscode": {
     "languageId": "plaintext"
    }
   },
   "outputs": [],
   "source": [
    "def send_data():\n",
    "    user = oracle_secrets['user'] + '[DVH_FAM_HM]'\n",
    "    dsn_tns = oracledb.makedsn(oracle_secrets['host'], 1521, service_name = oracle_secrets['service'])\n",
    "    \n",
    "    with oracledb.connect(user=user, password = oracle_secrets['password'], dsn=dsn_tns) as conn:\n",
    "        with conn.cursor() as cursor:\n",
    "            sql = \"\"\"select max(id) as maximun from brillestonad\"\"\"\n",
    "            cursor.execute(sql)\n",
    "            result = cursor.fetchall()\n",
    "            max_id = result[0][0]\n",
    "\n",
    "            if max_id is None:\n",
    "                df = get_data_from_table(0)\n",
    "            else:\n",
    "                df = get_data_from_table(max_id)\n",
    "            \n",
    "            if len(df) > 0:\n",
    "                rows = [tuple(x) for x in df.values]\n",
    "                cursor.executemany('''INSERT INTO brillestonad_test (ID,FNR_BARN,FNR_INNSENDER,ORGNR,BESTILLINGSDATO,BRILLEPRIS,BESTILLINGSREFERANSE,\n",
    "                                        BEHANDLINGSRESULTAT,SATS,SATS_BELOP,SATS_BESKRIVELSE,BELOP,OPPRETTET,KILDE) \n",
    "                                         VALUES (:1,:2,:3,:4,:5,:6,:7,:8,:9,:10,:11,:12,:13,:14)''',rows)\n",
    "                conn.commit()"
   ]
  },
  {
   "cell_type": "code",
   "execution_count": null,
   "id": "ca929a7e",
   "metadata": {
    "vscode": {
     "languageId": "plaintext"
    }
   },
   "outputs": [],
   "source": [
    "send_data()"
   ]
  }
 ],
 "metadata": {
  "kernelspec": {
   "display_name": "Python 3 (ipykernel)",
   "language": "python",
   "name": "python3"
  },
  "language_info": {
   "codemirror_mode": {
    "name": "ipython",
    "version": 3
   },
   "file_extension": ".py",
   "mimetype": "text/x-python",
   "name": "python",
   "nbconvert_exporter": "python",
   "pygments_lexer": "ipython3",
   "version": "3.10.9"
  }
 },
 "nbformat": 4,
 "nbformat_minor": 5
}
