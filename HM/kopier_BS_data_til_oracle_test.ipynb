{
 "cells": [
  {
   "cell_type": "code",
   "execution_count": null,
   "id": "c4f2b99c-37e4-4904-a841-f8897ec6afa5",
   "metadata": {
    "tags": []
   },
   "outputs": [],
   "source": [
    "import oracledb\n",
    "import pandas as pd\n",
    "from google.cloud.bigquery import Client\n",
    "import os, json\n",
    "from google.cloud import secretmanager\n",
    "import pandasql as ps"
   ]
  },
  {
   "cell_type": "code",
   "execution_count": null,
   "id": "6cb715aa-01df-49cc-9724-4de142714213",
   "metadata": {
    "tags": []
   },
   "outputs": [],
   "source": [
    "def set_secrets_as_envs():\n",
    "  secrets = secretmanager.SecretManagerServiceClient()\n",
    "  resource_name = f\"{os.environ['KNADA_TEAM_SECRET']}/versions/latest\"\n",
    "  secret = secrets.access_secret_version(name=resource_name)\n",
    "  secret_str = secret.payload.data.decode('UTF-8')\n",
    "  secrets = json.loads(secret_str)\n",
    "  os.environ.update(secrets)"
   ]
  },
  {
   "cell_type": "code",
   "execution_count": null,
   "id": "b412f92b-0144-40db-81e6-aab8234ab71d",
   "metadata": {
    "tags": []
   },
   "outputs": [],
   "source": [
    "def oracle_secrets():\n",
    "  set_secrets_as_envs()\n",
    "  return dict(\n",
    "    user=os.getenv('DB_USER'),\n",
    "    password=os.getenv('DB_PASSWORD'),\n",
    "    host = os.getenv('DBT_ORCL_HOST'),\n",
    "    service = os.getenv('DBT_ORCL_SERVICE'),\n",
    "    project_id = os.getenv('BS_PROJECT_ID'),\n",
    "    table_uri = os.getenv('BS_TABLE_URI'),  \n",
    "    encoding=\"UTF-8\",\n",
    "    nencoding=\"UTF-8\"\n",
    "  )\n",
    "\n",
    "oracle_secrets = oracle_secrets()"
   ]
  },
  {
   "cell_type": "code",
   "execution_count": null,
   "id": "c3bf2268-d50d-4e27-931d-7fb0f6bfb914",
   "metadata": {
    "tags": []
   },
   "outputs": [],
   "source": [
    "def get_data_from_table(max_id):\n",
    "    PROJECT_ID = oracle_secrets['project_id'] \n",
    "    TABLE_URI = oracle_secrets['table_uri'] \n",
    "\n",
    "    client = Client(project=PROJECT_ID)\n",
    "    job = client.query(f\"SELECT * FROM `{TABLE_URI}` WHERE id > {max_id}\")\n",
    "    df = job.to_dataframe()\n",
    "    \n",
    "    # some data cleaning\n",
    "    df['belop'] = pd.to_numeric(df['belop'])\n",
    "    \n",
    "    char_to_replace = {'≥' : '>=', '≤' : '<='}\n",
    "    for old, new in char_to_replace.items():\n",
    "        df['sats_beskrivelse'] = df['sats_beskrivelse'].str.replace(old, new)\n",
    "    \n",
    "    return df"
   ]
  },
  {
   "cell_type": "code",
   "execution_count": null,
   "id": "d909ae51-5742-4567-a063-eb8ba2102a71",
   "metadata": {
    "tags": []
   },
   "outputs": [],
   "source": [
    "def get_fk_person1_data(min_date, conn):\n",
    "    sql = (f\"\"\" select * from dt_person.ident_off_id_til_fk_person1 \n",
    "            where GYLDIG_FRA_DATO >= to_date('{min_date}', 'YYYY-MM-DD HH24:MI:SS')\"\"\")\n",
    "    \n",
    "    df = pd.read_sql(sql = sql, con = conn)\n",
    "    return df"
   ]
  },
  {
   "cell_type": "code",
   "execution_count": null,
   "id": "606f461e-40ba-41d0-b014-895700c4b8d2",
   "metadata": {
    "tags": []
   },
   "outputs": [],
   "source": [
    "def joined_df(df,df_):\n",
    "    df = df\n",
    "    df_ = df_\n",
    "    \n",
    "    query = (\"\"\"select id, fnr_barn, fnr_innsender, orgnr, bestillingsdato,\n",
    "                        brillepris, bestillingsreferanse, behandlingsresultat, sats,\n",
    "                        sats_belop, sats_beskrivelse, belop, b.fk_person1 fk_person1_barn, i.fk_person1 fk_person1_innsender,opprettet \n",
    "                        from df\n",
    "                        left outer join df_ b on\n",
    "                        df.fnr_barn=b.off_id\n",
    "                        and b.gyldig_fra_dato<=df.bestillingsdato\n",
    "                        and b.gyldig_fra_dato>=df.bestillingsdato\n",
    "                        and b.skjermet_kode=0\n",
    "                        left outer join df_ i on\n",
    "                        df.fnr_barn=i.off_id\n",
    "                        and i.gyldig_fra_dato<=df.bestillingsdato\n",
    "                        and i.gyldig_fra_dato>=df.bestillingsdato\"\"\")\n",
    "\n",
    "    fk_person1_df = ps.sqldf(query, locals())\n",
    "    \n",
    "    fk_person1_df = fk_person1_df[['id', 'fk_person1_barn','fk_person1_innsender', 'orgnr','bestillingsdato','brillepris', \n",
    "                'bestillingsreferanse', 'behandlingsresultat', 'sats','sats_belop', 'sats_beskrivelse', 'belop','opprettet']] \n",
    "    fk_person1_df['opprettet'] = fk_person1_df['opprettet'].astype('datetime64[ns]')\n",
    "    fk_person1_df['bestillingsdato'] = pd.to_datetime(fk_person1_df['bestillingsdato'], format='%Y-%m-%d')\n",
    "    \n",
    "    return fk_person1_df"
   ]
  },
  {
   "cell_type": "code",
   "execution_count": null,
   "id": "f272517b-1c03-46f9-94b1-6943da3ae93e",
   "metadata": {
    "tags": []
   },
   "outputs": [],
   "source": [
    "def send_data():\n",
    "    user = oracle_secrets['user'] + '[DVH_FAM_HM]'\n",
    "    dsn_tns = oracledb.makedsn(oracle_secrets['host'], 1521, service_name = oracle_secrets['service'])\n",
    "    \n",
    "    with oracledb.connect(user=user, password = oracle_secrets['password'], dsn=dsn_tns) as conn:\n",
    "        with conn.cursor() as cursor:\n",
    "            sql = (\"\"\"select max(id) as maximun from brillestonad_test\"\"\")\n",
    "            cursor.execute(sql)\n",
    "            result = cursor.fetchall()\n",
    "            max_id = result[0][0]\n",
    "            \n",
    "            if max_id is None:\n",
    "                df = get_data_from_table(0)\n",
    "            else:\n",
    "                df = get_data_from_table(max_id)\n",
    "                                \n",
    "            if len(df) > 0:\n",
    "                \n",
    "                min_date = df['bestillingsdato'].min()\n",
    "                df_ = get_fk_person1_data(min_date, conn)\n",
    "                fk_person1_df = joined_df(df,df_)\n",
    "                                \n",
    "                rows = [tuple(x) for x in fk_person1_df.values]\n",
    "                cursor.executemany('''INSERT INTO brillestonad_test(ID,FK_PERSON1_BARN,FK_PERSON1_INNSENDER,ORGNR,BESTILLINGSDATO,BRILLEPRIS,BESTILLINGSREFERANSE,\n",
    "                                        BEHANDLINGSRESULTAT,SATS,SATS_BELOP,SATS_BESKRIVELSE,BELOP,OPPRETTET) \n",
    "                                        VALUES (:1,nvl(:2,-1),nvl(:3,-1),:4,:5,:6,:7,:8,:9,:10,:11,:12,:13)''',rows)\n",
    "                conn.commit()"
   ]
  },
  {
   "cell_type": "code",
   "execution_count": null,
   "id": "d6ba25fa-39bc-4f88-a5a7-d3fc6d5ffec4",
   "metadata": {
    "tags": []
   },
   "outputs": [],
   "source": [
    "send_data()"
   ]
  }
 ],
 "metadata": {
  "kernelspec": {
   "display_name": "Python 3 (ipykernel)",
   "language": "python",
   "name": "python3"
  },
  "language_info": {
   "codemirror_mode": {
    "name": "ipython",
    "version": 3
   },
   "file_extension": ".py",
   "mimetype": "text/x-python",
   "name": "python",
   "nbconvert_exporter": "python",
   "pygments_lexer": "ipython3",
   "version": "3.10.9"
  }
 },
 "nbformat": 4,
 "nbformat_minor": 5
}
